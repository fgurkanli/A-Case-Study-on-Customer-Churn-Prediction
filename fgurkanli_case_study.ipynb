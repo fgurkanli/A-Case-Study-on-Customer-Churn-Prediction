{
 "cells": [
  {
   "cell_type": "code",
   "execution_count": 1,
   "id": "1c050778",
   "metadata": {},
   "outputs": [],
   "source": [
    "#Importing the necessary tools and packages for the project\n",
    "import numpy as np\n",
    "import pandas as pd\n",
    "import seaborn as sns\n",
    "import matplotlib.pyplot as plt\n",
    "%matplotlib inline \n",
    "from sklearn.svm import LinearSVC\n",
    "from sklearn.datasets import load_iris\n",
    "from sklearn.feature_selection import SelectFromModel\n",
    "from sklearn.model_selection import train_test_split \n",
    "from sklearn.ensemble import RandomForestClassifier\n",
    "import xgboost as xgb\n",
    "from sklearn.metrics import accuracy_score\n",
    "import warnings\n",
    "warnings.filterwarnings(\"ignore\")"
   ]
  },
  {
   "cell_type": "markdown",
   "id": "0419b904",
   "metadata": {},
   "source": [
    "# Machine Learning Skills "
   ]
  },
  {
   "cell_type": "markdown",
   "id": "c9b091a3",
   "metadata": {},
   "source": [
    "### First look at the data"
   ]
  },
  {
   "cell_type": "markdown",
   "id": "94b0f4a2",
   "metadata": {},
   "source": [
    "###### Importing the dataset and making an explaratory data analysis"
   ]
  },
  {
   "cell_type": "code",
   "execution_count": 2,
   "id": "46f2e1b3",
   "metadata": {},
   "outputs": [
    {
     "data": {
      "text/html": [
       "<div>\n",
       "<style scoped>\n",
       "    .dataframe tbody tr th:only-of-type {\n",
       "        vertical-align: middle;\n",
       "    }\n",
       "\n",
       "    .dataframe tbody tr th {\n",
       "        vertical-align: top;\n",
       "    }\n",
       "\n",
       "    .dataframe thead th {\n",
       "        text-align: right;\n",
       "    }\n",
       "</style>\n",
       "<table border=\"1\" class=\"dataframe\">\n",
       "  <thead>\n",
       "    <tr style=\"text-align: right;\">\n",
       "      <th></th>\n",
       "      <th>account length</th>\n",
       "      <th>location code</th>\n",
       "      <th>user id</th>\n",
       "      <th>credit card info save</th>\n",
       "      <th>push status</th>\n",
       "      <th>add to wishlist</th>\n",
       "      <th>desktop sessions</th>\n",
       "      <th>app sessions</th>\n",
       "      <th>desktop transactions</th>\n",
       "      <th>total product detail views</th>\n",
       "      <th>session duration</th>\n",
       "      <th>promotion clicks</th>\n",
       "      <th>avg order value</th>\n",
       "      <th>sale product views</th>\n",
       "      <th>discount rate per visited products</th>\n",
       "      <th>product detail view per app session</th>\n",
       "      <th>app transactions</th>\n",
       "      <th>add to cart per session</th>\n",
       "      <th>customer service calls</th>\n",
       "      <th>churn</th>\n",
       "    </tr>\n",
       "  </thead>\n",
       "  <tbody>\n",
       "    <tr>\n",
       "      <th>0</th>\n",
       "      <td>128</td>\n",
       "      <td>415</td>\n",
       "      <td>3824657</td>\n",
       "      <td>no</td>\n",
       "      <td>yes</td>\n",
       "      <td>25</td>\n",
       "      <td>265</td>\n",
       "      <td>45</td>\n",
       "      <td>17</td>\n",
       "      <td>110</td>\n",
       "      <td>197</td>\n",
       "      <td>87</td>\n",
       "      <td>244,7</td>\n",
       "      <td>91</td>\n",
       "      <td>11,01</td>\n",
       "      <td>10</td>\n",
       "      <td>3</td>\n",
       "      <td>2,7</td>\n",
       "      <td>1</td>\n",
       "      <td>0</td>\n",
       "    </tr>\n",
       "    <tr>\n",
       "      <th>1</th>\n",
       "      <td>107</td>\n",
       "      <td>415</td>\n",
       "      <td>3717191</td>\n",
       "      <td>no</td>\n",
       "      <td>yes</td>\n",
       "      <td>26</td>\n",
       "      <td>162</td>\n",
       "      <td>27</td>\n",
       "      <td>17</td>\n",
       "      <td>123</td>\n",
       "      <td>196</td>\n",
       "      <td>103</td>\n",
       "      <td>254,4</td>\n",
       "      <td>103</td>\n",
       "      <td>11,45</td>\n",
       "      <td>13,7</td>\n",
       "      <td>3</td>\n",
       "      <td>3,7</td>\n",
       "      <td>1</td>\n",
       "      <td>0</td>\n",
       "    </tr>\n",
       "    <tr>\n",
       "      <th>2</th>\n",
       "      <td>137</td>\n",
       "      <td>415</td>\n",
       "      <td>3581921</td>\n",
       "      <td>no</td>\n",
       "      <td>no</td>\n",
       "      <td>0</td>\n",
       "      <td>243</td>\n",
       "      <td>41</td>\n",
       "      <td>10</td>\n",
       "      <td>114</td>\n",
       "      <td>121</td>\n",
       "      <td>110</td>\n",
       "      <td>162,6</td>\n",
       "      <td>104</td>\n",
       "      <td>7,32</td>\n",
       "      <td>12,2</td>\n",
       "      <td>5</td>\n",
       "      <td>3,29</td>\n",
       "      <td>0</td>\n",
       "      <td>0</td>\n",
       "    </tr>\n",
       "    <tr>\n",
       "      <th>3</th>\n",
       "      <td>84</td>\n",
       "      <td>408</td>\n",
       "      <td>3759999</td>\n",
       "      <td>yes</td>\n",
       "      <td>no</td>\n",
       "      <td>0</td>\n",
       "      <td>299</td>\n",
       "      <td>51</td>\n",
       "      <td>5</td>\n",
       "      <td>71</td>\n",
       "      <td>62</td>\n",
       "      <td>88</td>\n",
       "      <td>196,9</td>\n",
       "      <td>89</td>\n",
       "      <td>8,86</td>\n",
       "      <td>6,6</td>\n",
       "      <td>7</td>\n",
       "      <td>1,78</td>\n",
       "      <td>2</td>\n",
       "      <td>0</td>\n",
       "    </tr>\n",
       "    <tr>\n",
       "      <th>4</th>\n",
       "      <td>75</td>\n",
       "      <td>415</td>\n",
       "      <td>3306626</td>\n",
       "      <td>yes</td>\n",
       "      <td>no</td>\n",
       "      <td>0</td>\n",
       "      <td>167</td>\n",
       "      <td>28</td>\n",
       "      <td>13</td>\n",
       "      <td>113</td>\n",
       "      <td>148</td>\n",
       "      <td>122</td>\n",
       "      <td>186,9</td>\n",
       "      <td>121</td>\n",
       "      <td>8,41</td>\n",
       "      <td>10,1</td>\n",
       "      <td>3</td>\n",
       "      <td>2,73</td>\n",
       "      <td>3</td>\n",
       "      <td>0</td>\n",
       "    </tr>\n",
       "  </tbody>\n",
       "</table>\n",
       "</div>"
      ],
      "text/plain": [
       "   account length  location code  user id credit card info save push status  \\\n",
       "0             128            415  3824657                    no         yes   \n",
       "1             107            415  3717191                    no         yes   \n",
       "2             137            415  3581921                    no          no   \n",
       "3              84            408  3759999                   yes          no   \n",
       "4              75            415  3306626                   yes          no   \n",
       "\n",
       "   add to wishlist  desktop sessions  app sessions  desktop transactions  \\\n",
       "0               25               265            45                    17   \n",
       "1               26               162            27                    17   \n",
       "2                0               243            41                    10   \n",
       "3                0               299            51                     5   \n",
       "4                0               167            28                    13   \n",
       "\n",
       "   total product detail views  session duration  promotion clicks  \\\n",
       "0                         110               197                87   \n",
       "1                         123               196               103   \n",
       "2                         114               121               110   \n",
       "3                          71                62                88   \n",
       "4                         113               148               122   \n",
       "\n",
       "  avg order value  sale product views discount rate per visited products  \\\n",
       "0           244,7                  91                              11,01   \n",
       "1           254,4                 103                              11,45   \n",
       "2           162,6                 104                               7,32   \n",
       "3           196,9                  89                               8,86   \n",
       "4           186,9                 121                               8,41   \n",
       "\n",
       "  product detail view per app session  app transactions  \\\n",
       "0                                  10                 3   \n",
       "1                                13,7                 3   \n",
       "2                                12,2                 5   \n",
       "3                                 6,6                 7   \n",
       "4                                10,1                 3   \n",
       "\n",
       "  add to cart per session  customer service calls  churn  \n",
       "0                     2,7                       1      0  \n",
       "1                     3,7                       1      0  \n",
       "2                    3,29                       0      0  \n",
       "3                    1,78                       2      0  \n",
       "4                    2,73                       3      0  "
      ]
     },
     "execution_count": 2,
     "metadata": {},
     "output_type": "execute_result"
    }
   ],
   "source": [
    "df = pd.read_csv(\"data1.csv\",sep=\";\")\n",
    "df.head()"
   ]
  },
  {
   "cell_type": "code",
   "execution_count": 3,
   "id": "59f437f7",
   "metadata": {},
   "outputs": [
    {
     "data": {
      "text/plain": [
       "Index(['account length', 'location code', 'user id', 'credit card info save',\n",
       "       'push status', 'add to wishlist', 'desktop sessions', 'app sessions',\n",
       "       'desktop transactions', 'total product detail views',\n",
       "       'session duration', 'promotion clicks', 'avg order value',\n",
       "       'sale product views', 'discount rate per visited products',\n",
       "       'product detail view per app session', 'app transactions',\n",
       "       'add to cart per session', 'customer service calls', 'churn'],\n",
       "      dtype='object')"
      ]
     },
     "execution_count": 3,
     "metadata": {},
     "output_type": "execute_result"
    }
   ],
   "source": [
    "df.columns"
   ]
  },
  {
   "cell_type": "code",
   "execution_count": 4,
   "id": "aa5e7730",
   "metadata": {},
   "outputs": [
    {
     "data": {
      "text/plain": [
       "(3333, 20)"
      ]
     },
     "execution_count": 4,
     "metadata": {},
     "output_type": "execute_result"
    }
   ],
   "source": [
    "df.shape"
   ]
  },
  {
   "cell_type": "code",
   "execution_count": 5,
   "id": "599e0531",
   "metadata": {},
   "outputs": [
    {
     "name": "stdout",
     "output_type": "stream",
     "text": [
      "<class 'pandas.core.frame.DataFrame'>\n",
      "RangeIndex: 3333 entries, 0 to 3332\n",
      "Data columns (total 20 columns):\n",
      " #   Column                               Non-Null Count  Dtype \n",
      "---  ------                               --------------  ----- \n",
      " 0   account length                       3333 non-null   int64 \n",
      " 1   location code                        3333 non-null   int64 \n",
      " 2   user id                              3333 non-null   int64 \n",
      " 3   credit card info save                3333 non-null   object\n",
      " 4   push status                          3333 non-null   object\n",
      " 5   add to wishlist                      3333 non-null   int64 \n",
      " 6   desktop sessions                     3333 non-null   int64 \n",
      " 7   app sessions                         3333 non-null   int64 \n",
      " 8   desktop transactions                 3333 non-null   int64 \n",
      " 9   total product detail views           3333 non-null   int64 \n",
      " 10  session duration                     3333 non-null   int64 \n",
      " 11  promotion clicks                     3333 non-null   int64 \n",
      " 12  avg order value                      3333 non-null   object\n",
      " 13  sale product views                   3333 non-null   int64 \n",
      " 14  discount rate per visited products   3333 non-null   object\n",
      " 15  product detail view per app session  3333 non-null   object\n",
      " 16  app transactions                     3333 non-null   int64 \n",
      " 17  add to cart per session              3333 non-null   object\n",
      " 18  customer service calls               3333 non-null   int64 \n",
      " 19  churn                                3333 non-null   int64 \n",
      "dtypes: int64(14), object(6)\n",
      "memory usage: 520.9+ KB\n"
     ]
    }
   ],
   "source": [
    "df.info()"
   ]
  },
  {
   "cell_type": "code",
   "execution_count": 6,
   "id": "bbd74794",
   "metadata": {},
   "outputs": [
    {
     "data": {
      "text/html": [
       "<div>\n",
       "<style scoped>\n",
       "    .dataframe tbody tr th:only-of-type {\n",
       "        vertical-align: middle;\n",
       "    }\n",
       "\n",
       "    .dataframe tbody tr th {\n",
       "        vertical-align: top;\n",
       "    }\n",
       "\n",
       "    .dataframe thead th {\n",
       "        text-align: right;\n",
       "    }\n",
       "</style>\n",
       "<table border=\"1\" class=\"dataframe\">\n",
       "  <thead>\n",
       "    <tr style=\"text-align: right;\">\n",
       "      <th></th>\n",
       "      <th>account length</th>\n",
       "      <th>location code</th>\n",
       "      <th>user id</th>\n",
       "      <th>add to wishlist</th>\n",
       "      <th>desktop sessions</th>\n",
       "      <th>app sessions</th>\n",
       "      <th>desktop transactions</th>\n",
       "      <th>total product detail views</th>\n",
       "      <th>session duration</th>\n",
       "      <th>promotion clicks</th>\n",
       "      <th>sale product views</th>\n",
       "      <th>app transactions</th>\n",
       "      <th>customer service calls</th>\n",
       "      <th>churn</th>\n",
       "    </tr>\n",
       "  </thead>\n",
       "  <tbody>\n",
       "    <tr>\n",
       "      <th>count</th>\n",
       "      <td>3333.000000</td>\n",
       "      <td>3333.000000</td>\n",
       "      <td>3.333000e+03</td>\n",
       "      <td>3333.000000</td>\n",
       "      <td>3333.000000</td>\n",
       "      <td>3333.000000</td>\n",
       "      <td>3333.000000</td>\n",
       "      <td>3333.000000</td>\n",
       "      <td>3333.000000</td>\n",
       "      <td>3333.000000</td>\n",
       "      <td>3333.000000</td>\n",
       "      <td>3333.000000</td>\n",
       "      <td>3333.000000</td>\n",
       "      <td>3333.000000</td>\n",
       "    </tr>\n",
       "    <tr>\n",
       "      <th>mean</th>\n",
       "      <td>101.064806</td>\n",
       "      <td>437.182418</td>\n",
       "      <td>3.746291e+06</td>\n",
       "      <td>8.099010</td>\n",
       "      <td>179.811881</td>\n",
       "      <td>30.567957</td>\n",
       "      <td>17.087609</td>\n",
       "      <td>100.435644</td>\n",
       "      <td>201.039604</td>\n",
       "      <td>100.110711</td>\n",
       "      <td>100.107711</td>\n",
       "      <td>4.479448</td>\n",
       "      <td>1.562856</td>\n",
       "      <td>0.144914</td>\n",
       "    </tr>\n",
       "    <tr>\n",
       "      <th>std</th>\n",
       "      <td>39.822106</td>\n",
       "      <td>42.371290</td>\n",
       "      <td>2.746626e+05</td>\n",
       "      <td>13.688365</td>\n",
       "      <td>54.457135</td>\n",
       "      <td>9.269376</td>\n",
       "      <td>4.323795</td>\n",
       "      <td>20.069084</td>\n",
       "      <td>50.714359</td>\n",
       "      <td>19.923911</td>\n",
       "      <td>19.568609</td>\n",
       "      <td>2.461214</td>\n",
       "      <td>1.315491</td>\n",
       "      <td>0.352067</td>\n",
       "    </tr>\n",
       "    <tr>\n",
       "      <th>min</th>\n",
       "      <td>1.000000</td>\n",
       "      <td>408.000000</td>\n",
       "      <td>3.271058e+06</td>\n",
       "      <td>0.000000</td>\n",
       "      <td>0.000000</td>\n",
       "      <td>0.000000</td>\n",
       "      <td>0.000000</td>\n",
       "      <td>0.000000</td>\n",
       "      <td>0.000000</td>\n",
       "      <td>0.000000</td>\n",
       "      <td>33.000000</td>\n",
       "      <td>0.000000</td>\n",
       "      <td>0.000000</td>\n",
       "      <td>0.000000</td>\n",
       "    </tr>\n",
       "    <tr>\n",
       "      <th>25%</th>\n",
       "      <td>74.000000</td>\n",
       "      <td>408.000000</td>\n",
       "      <td>3.508680e+06</td>\n",
       "      <td>0.000000</td>\n",
       "      <td>144.000000</td>\n",
       "      <td>24.000000</td>\n",
       "      <td>14.000000</td>\n",
       "      <td>87.000000</td>\n",
       "      <td>167.000000</td>\n",
       "      <td>87.000000</td>\n",
       "      <td>87.000000</td>\n",
       "      <td>3.000000</td>\n",
       "      <td>1.000000</td>\n",
       "      <td>0.000000</td>\n",
       "    </tr>\n",
       "    <tr>\n",
       "      <th>50%</th>\n",
       "      <td>101.000000</td>\n",
       "      <td>415.000000</td>\n",
       "      <td>3.748187e+06</td>\n",
       "      <td>0.000000</td>\n",
       "      <td>179.000000</td>\n",
       "      <td>31.000000</td>\n",
       "      <td>17.000000</td>\n",
       "      <td>101.000000</td>\n",
       "      <td>201.000000</td>\n",
       "      <td>100.000000</td>\n",
       "      <td>100.000000</td>\n",
       "      <td>4.000000</td>\n",
       "      <td>1.000000</td>\n",
       "      <td>0.000000</td>\n",
       "    </tr>\n",
       "    <tr>\n",
       "      <th>75%</th>\n",
       "      <td>127.000000</td>\n",
       "      <td>510.000000</td>\n",
       "      <td>3.985970e+06</td>\n",
       "      <td>20.000000</td>\n",
       "      <td>216.000000</td>\n",
       "      <td>37.000000</td>\n",
       "      <td>20.000000</td>\n",
       "      <td>114.000000</td>\n",
       "      <td>235.000000</td>\n",
       "      <td>114.000000</td>\n",
       "      <td>113.000000</td>\n",
       "      <td>6.000000</td>\n",
       "      <td>2.000000</td>\n",
       "      <td>0.000000</td>\n",
       "    </tr>\n",
       "    <tr>\n",
       "      <th>max</th>\n",
       "      <td>243.000000</td>\n",
       "      <td>510.000000</td>\n",
       "      <td>4.229964e+06</td>\n",
       "      <td>51.000000</td>\n",
       "      <td>351.000000</td>\n",
       "      <td>60.000000</td>\n",
       "      <td>31.000000</td>\n",
       "      <td>165.000000</td>\n",
       "      <td>364.000000</td>\n",
       "      <td>170.000000</td>\n",
       "      <td>175.000000</td>\n",
       "      <td>20.000000</td>\n",
       "      <td>9.000000</td>\n",
       "      <td>1.000000</td>\n",
       "    </tr>\n",
       "  </tbody>\n",
       "</table>\n",
       "</div>"
      ],
      "text/plain": [
       "       account length  location code       user id  add to wishlist  \\\n",
       "count     3333.000000    3333.000000  3.333000e+03      3333.000000   \n",
       "mean       101.064806     437.182418  3.746291e+06         8.099010   \n",
       "std         39.822106      42.371290  2.746626e+05        13.688365   \n",
       "min          1.000000     408.000000  3.271058e+06         0.000000   \n",
       "25%         74.000000     408.000000  3.508680e+06         0.000000   \n",
       "50%        101.000000     415.000000  3.748187e+06         0.000000   \n",
       "75%        127.000000     510.000000  3.985970e+06        20.000000   \n",
       "max        243.000000     510.000000  4.229964e+06        51.000000   \n",
       "\n",
       "       desktop sessions  app sessions  desktop transactions  \\\n",
       "count       3333.000000   3333.000000           3333.000000   \n",
       "mean         179.811881     30.567957             17.087609   \n",
       "std           54.457135      9.269376              4.323795   \n",
       "min            0.000000      0.000000              0.000000   \n",
       "25%          144.000000     24.000000             14.000000   \n",
       "50%          179.000000     31.000000             17.000000   \n",
       "75%          216.000000     37.000000             20.000000   \n",
       "max          351.000000     60.000000             31.000000   \n",
       "\n",
       "       total product detail views  session duration  promotion clicks  \\\n",
       "count                 3333.000000       3333.000000       3333.000000   \n",
       "mean                   100.435644        201.039604        100.110711   \n",
       "std                     20.069084         50.714359         19.923911   \n",
       "min                      0.000000          0.000000          0.000000   \n",
       "25%                     87.000000        167.000000         87.000000   \n",
       "50%                    101.000000        201.000000        100.000000   \n",
       "75%                    114.000000        235.000000        114.000000   \n",
       "max                    165.000000        364.000000        170.000000   \n",
       "\n",
       "       sale product views  app transactions  customer service calls  \\\n",
       "count         3333.000000       3333.000000             3333.000000   \n",
       "mean           100.107711          4.479448                1.562856   \n",
       "std             19.568609          2.461214                1.315491   \n",
       "min             33.000000          0.000000                0.000000   \n",
       "25%             87.000000          3.000000                1.000000   \n",
       "50%            100.000000          4.000000                1.000000   \n",
       "75%            113.000000          6.000000                2.000000   \n",
       "max            175.000000         20.000000                9.000000   \n",
       "\n",
       "             churn  \n",
       "count  3333.000000  \n",
       "mean      0.144914  \n",
       "std       0.352067  \n",
       "min       0.000000  \n",
       "25%       0.000000  \n",
       "50%       0.000000  \n",
       "75%       0.000000  \n",
       "max       1.000000  "
      ]
     },
     "execution_count": 6,
     "metadata": {},
     "output_type": "execute_result"
    }
   ],
   "source": [
    "df.describe()"
   ]
  },
  {
   "cell_type": "markdown",
   "id": "d0269420",
   "metadata": {},
   "source": [
    "#### Correlation matrix and correlation map"
   ]
  },
  {
   "cell_type": "code",
   "execution_count": 7,
   "id": "9c1d946b",
   "metadata": {},
   "outputs": [
    {
     "data": {
      "text/html": [
       "<div>\n",
       "<style scoped>\n",
       "    .dataframe tbody tr th:only-of-type {\n",
       "        vertical-align: middle;\n",
       "    }\n",
       "\n",
       "    .dataframe tbody tr th {\n",
       "        vertical-align: top;\n",
       "    }\n",
       "\n",
       "    .dataframe thead th {\n",
       "        text-align: right;\n",
       "    }\n",
       "</style>\n",
       "<table border=\"1\" class=\"dataframe\">\n",
       "  <thead>\n",
       "    <tr style=\"text-align: right;\">\n",
       "      <th></th>\n",
       "      <th>account length</th>\n",
       "      <th>location code</th>\n",
       "      <th>user id</th>\n",
       "      <th>add to wishlist</th>\n",
       "      <th>desktop sessions</th>\n",
       "      <th>app sessions</th>\n",
       "      <th>desktop transactions</th>\n",
       "      <th>total product detail views</th>\n",
       "      <th>session duration</th>\n",
       "      <th>promotion clicks</th>\n",
       "      <th>sale product views</th>\n",
       "      <th>app transactions</th>\n",
       "      <th>customer service calls</th>\n",
       "      <th>churn</th>\n",
       "    </tr>\n",
       "  </thead>\n",
       "  <tbody>\n",
       "    <tr>\n",
       "      <th>account length</th>\n",
       "      <td>1.000000</td>\n",
       "      <td>-0.012463</td>\n",
       "      <td>0.004808</td>\n",
       "      <td>-0.004628</td>\n",
       "      <td>0.006191</td>\n",
       "      <td>0.007158</td>\n",
       "      <td>-0.007882</td>\n",
       "      <td>0.038470</td>\n",
       "      <td>-0.006790</td>\n",
       "      <td>0.019136</td>\n",
       "      <td>-0.013176</td>\n",
       "      <td>0.020661</td>\n",
       "      <td>-0.003796</td>\n",
       "      <td>0.016541</td>\n",
       "    </tr>\n",
       "    <tr>\n",
       "      <th>location code</th>\n",
       "      <td>-0.012463</td>\n",
       "      <td>1.000000</td>\n",
       "      <td>-0.014029</td>\n",
       "      <td>-0.001994</td>\n",
       "      <td>-0.008390</td>\n",
       "      <td>-0.007940</td>\n",
       "      <td>0.003712</td>\n",
       "      <td>-0.009646</td>\n",
       "      <td>0.003894</td>\n",
       "      <td>-0.011791</td>\n",
       "      <td>0.016522</td>\n",
       "      <td>-0.024179</td>\n",
       "      <td>0.027572</td>\n",
       "      <td>0.006174</td>\n",
       "    </tr>\n",
       "    <tr>\n",
       "      <th>user id</th>\n",
       "      <td>0.004808</td>\n",
       "      <td>-0.014029</td>\n",
       "      <td>1.000000</td>\n",
       "      <td>0.022569</td>\n",
       "      <td>0.012035</td>\n",
       "      <td>0.011246</td>\n",
       "      <td>-0.017838</td>\n",
       "      <td>-0.005812</td>\n",
       "      <td>-0.017708</td>\n",
       "      <td>0.003468</td>\n",
       "      <td>0.014034</td>\n",
       "      <td>-0.017676</td>\n",
       "      <td>0.033847</td>\n",
       "      <td>0.005730</td>\n",
       "    </tr>\n",
       "    <tr>\n",
       "      <th>add to wishlist</th>\n",
       "      <td>-0.004628</td>\n",
       "      <td>-0.001994</td>\n",
       "      <td>0.022569</td>\n",
       "      <td>1.000000</td>\n",
       "      <td>0.001005</td>\n",
       "      <td>0.000030</td>\n",
       "      <td>0.019325</td>\n",
       "      <td>-0.009548</td>\n",
       "      <td>0.017443</td>\n",
       "      <td>-0.006087</td>\n",
       "      <td>0.007123</td>\n",
       "      <td>0.013957</td>\n",
       "      <td>-0.013263</td>\n",
       "      <td>-0.089728</td>\n",
       "    </tr>\n",
       "    <tr>\n",
       "      <th>desktop sessions</th>\n",
       "      <td>0.006191</td>\n",
       "      <td>-0.008390</td>\n",
       "      <td>0.012035</td>\n",
       "      <td>0.001005</td>\n",
       "      <td>1.000000</td>\n",
       "      <td>0.999498</td>\n",
       "      <td>0.006033</td>\n",
       "      <td>0.006561</td>\n",
       "      <td>0.007216</td>\n",
       "      <td>0.015495</td>\n",
       "      <td>0.023060</td>\n",
       "      <td>0.008148</td>\n",
       "      <td>-0.013432</td>\n",
       "      <td>0.205138</td>\n",
       "    </tr>\n",
       "    <tr>\n",
       "      <th>app sessions</th>\n",
       "      <td>0.007158</td>\n",
       "      <td>-0.007940</td>\n",
       "      <td>0.011246</td>\n",
       "      <td>0.000030</td>\n",
       "      <td>0.999498</td>\n",
       "      <td>1.000000</td>\n",
       "      <td>0.005752</td>\n",
       "      <td>0.006363</td>\n",
       "      <td>0.006943</td>\n",
       "      <td>0.015923</td>\n",
       "      <td>0.022918</td>\n",
       "      <td>0.008017</td>\n",
       "      <td>-0.012835</td>\n",
       "      <td>0.204683</td>\n",
       "    </tr>\n",
       "    <tr>\n",
       "      <th>desktop transactions</th>\n",
       "      <td>-0.007882</td>\n",
       "      <td>0.003712</td>\n",
       "      <td>-0.017838</td>\n",
       "      <td>0.019325</td>\n",
       "      <td>0.006033</td>\n",
       "      <td>0.005752</td>\n",
       "      <td>1.000000</td>\n",
       "      <td>-0.019646</td>\n",
       "      <td>0.997815</td>\n",
       "      <td>-0.009742</td>\n",
       "      <td>0.007323</td>\n",
       "      <td>0.000874</td>\n",
       "      <td>-0.014265</td>\n",
       "      <td>0.091811</td>\n",
       "    </tr>\n",
       "    <tr>\n",
       "      <th>total product detail views</th>\n",
       "      <td>0.038470</td>\n",
       "      <td>-0.009646</td>\n",
       "      <td>-0.005812</td>\n",
       "      <td>-0.009548</td>\n",
       "      <td>0.006561</td>\n",
       "      <td>0.006363</td>\n",
       "      <td>-0.019646</td>\n",
       "      <td>1.000000</td>\n",
       "      <td>-0.021409</td>\n",
       "      <td>0.006376</td>\n",
       "      <td>-0.019557</td>\n",
       "      <td>0.004574</td>\n",
       "      <td>-0.018942</td>\n",
       "      <td>0.018459</td>\n",
       "    </tr>\n",
       "    <tr>\n",
       "      <th>session duration</th>\n",
       "      <td>-0.006790</td>\n",
       "      <td>0.003894</td>\n",
       "      <td>-0.017708</td>\n",
       "      <td>0.017443</td>\n",
       "      <td>0.007216</td>\n",
       "      <td>0.006943</td>\n",
       "      <td>0.997815</td>\n",
       "      <td>-0.021409</td>\n",
       "      <td>1.000000</td>\n",
       "      <td>-0.011477</td>\n",
       "      <td>0.007613</td>\n",
       "      <td>0.002697</td>\n",
       "      <td>-0.012971</td>\n",
       "      <td>0.092783</td>\n",
       "    </tr>\n",
       "    <tr>\n",
       "      <th>promotion clicks</th>\n",
       "      <td>0.019136</td>\n",
       "      <td>-0.011791</td>\n",
       "      <td>0.003468</td>\n",
       "      <td>-0.006087</td>\n",
       "      <td>0.015495</td>\n",
       "      <td>0.015923</td>\n",
       "      <td>-0.009742</td>\n",
       "      <td>0.006376</td>\n",
       "      <td>-0.011477</td>\n",
       "      <td>1.000000</td>\n",
       "      <td>0.007793</td>\n",
       "      <td>0.017541</td>\n",
       "      <td>0.002500</td>\n",
       "      <td>0.009307</td>\n",
       "    </tr>\n",
       "    <tr>\n",
       "      <th>sale product views</th>\n",
       "      <td>-0.013176</td>\n",
       "      <td>0.016522</td>\n",
       "      <td>0.014034</td>\n",
       "      <td>0.007123</td>\n",
       "      <td>0.023060</td>\n",
       "      <td>0.022918</td>\n",
       "      <td>0.007323</td>\n",
       "      <td>-0.019557</td>\n",
       "      <td>0.007613</td>\n",
       "      <td>0.007793</td>\n",
       "      <td>1.000000</td>\n",
       "      <td>0.000305</td>\n",
       "      <td>-0.012802</td>\n",
       "      <td>0.006141</td>\n",
       "    </tr>\n",
       "    <tr>\n",
       "      <th>app transactions</th>\n",
       "      <td>0.020661</td>\n",
       "      <td>-0.024179</td>\n",
       "      <td>-0.017676</td>\n",
       "      <td>0.013957</td>\n",
       "      <td>0.008148</td>\n",
       "      <td>0.008017</td>\n",
       "      <td>0.000874</td>\n",
       "      <td>0.004574</td>\n",
       "      <td>0.002697</td>\n",
       "      <td>0.017541</td>\n",
       "      <td>0.000305</td>\n",
       "      <td>1.000000</td>\n",
       "      <td>-0.017561</td>\n",
       "      <td>-0.052844</td>\n",
       "    </tr>\n",
       "    <tr>\n",
       "      <th>customer service calls</th>\n",
       "      <td>-0.003796</td>\n",
       "      <td>0.027572</td>\n",
       "      <td>0.033847</td>\n",
       "      <td>-0.013263</td>\n",
       "      <td>-0.013432</td>\n",
       "      <td>-0.012835</td>\n",
       "      <td>-0.014265</td>\n",
       "      <td>-0.018942</td>\n",
       "      <td>-0.012971</td>\n",
       "      <td>0.002500</td>\n",
       "      <td>-0.012802</td>\n",
       "      <td>-0.017561</td>\n",
       "      <td>1.000000</td>\n",
       "      <td>0.208750</td>\n",
       "    </tr>\n",
       "    <tr>\n",
       "      <th>churn</th>\n",
       "      <td>0.016541</td>\n",
       "      <td>0.006174</td>\n",
       "      <td>0.005730</td>\n",
       "      <td>-0.089728</td>\n",
       "      <td>0.205138</td>\n",
       "      <td>0.204683</td>\n",
       "      <td>0.091811</td>\n",
       "      <td>0.018459</td>\n",
       "      <td>0.092783</td>\n",
       "      <td>0.009307</td>\n",
       "      <td>0.006141</td>\n",
       "      <td>-0.052844</td>\n",
       "      <td>0.208750</td>\n",
       "      <td>1.000000</td>\n",
       "    </tr>\n",
       "  </tbody>\n",
       "</table>\n",
       "</div>"
      ],
      "text/plain": [
       "                            account length  location code   user id  \\\n",
       "account length                    1.000000      -0.012463  0.004808   \n",
       "location code                    -0.012463       1.000000 -0.014029   \n",
       "user id                           0.004808      -0.014029  1.000000   \n",
       "add to wishlist                  -0.004628      -0.001994  0.022569   \n",
       "desktop sessions                  0.006191      -0.008390  0.012035   \n",
       "app sessions                      0.007158      -0.007940  0.011246   \n",
       "desktop transactions             -0.007882       0.003712 -0.017838   \n",
       "total product detail views        0.038470      -0.009646 -0.005812   \n",
       "session duration                 -0.006790       0.003894 -0.017708   \n",
       "promotion clicks                  0.019136      -0.011791  0.003468   \n",
       "sale product views               -0.013176       0.016522  0.014034   \n",
       "app transactions                  0.020661      -0.024179 -0.017676   \n",
       "customer service calls           -0.003796       0.027572  0.033847   \n",
       "churn                             0.016541       0.006174  0.005730   \n",
       "\n",
       "                            add to wishlist  desktop sessions  app sessions  \\\n",
       "account length                    -0.004628          0.006191      0.007158   \n",
       "location code                     -0.001994         -0.008390     -0.007940   \n",
       "user id                            0.022569          0.012035      0.011246   \n",
       "add to wishlist                    1.000000          0.001005      0.000030   \n",
       "desktop sessions                   0.001005          1.000000      0.999498   \n",
       "app sessions                       0.000030          0.999498      1.000000   \n",
       "desktop transactions               0.019325          0.006033      0.005752   \n",
       "total product detail views        -0.009548          0.006561      0.006363   \n",
       "session duration                   0.017443          0.007216      0.006943   \n",
       "promotion clicks                  -0.006087          0.015495      0.015923   \n",
       "sale product views                 0.007123          0.023060      0.022918   \n",
       "app transactions                   0.013957          0.008148      0.008017   \n",
       "customer service calls            -0.013263         -0.013432     -0.012835   \n",
       "churn                             -0.089728          0.205138      0.204683   \n",
       "\n",
       "                            desktop transactions  total product detail views  \\\n",
       "account length                         -0.007882                    0.038470   \n",
       "location code                           0.003712                   -0.009646   \n",
       "user id                                -0.017838                   -0.005812   \n",
       "add to wishlist                         0.019325                   -0.009548   \n",
       "desktop sessions                        0.006033                    0.006561   \n",
       "app sessions                            0.005752                    0.006363   \n",
       "desktop transactions                    1.000000                   -0.019646   \n",
       "total product detail views             -0.019646                    1.000000   \n",
       "session duration                        0.997815                   -0.021409   \n",
       "promotion clicks                       -0.009742                    0.006376   \n",
       "sale product views                      0.007323                   -0.019557   \n",
       "app transactions                        0.000874                    0.004574   \n",
       "customer service calls                 -0.014265                   -0.018942   \n",
       "churn                                   0.091811                    0.018459   \n",
       "\n",
       "                            session duration  promotion clicks  \\\n",
       "account length                     -0.006790          0.019136   \n",
       "location code                       0.003894         -0.011791   \n",
       "user id                            -0.017708          0.003468   \n",
       "add to wishlist                     0.017443         -0.006087   \n",
       "desktop sessions                    0.007216          0.015495   \n",
       "app sessions                        0.006943          0.015923   \n",
       "desktop transactions                0.997815         -0.009742   \n",
       "total product detail views         -0.021409          0.006376   \n",
       "session duration                    1.000000         -0.011477   \n",
       "promotion clicks                   -0.011477          1.000000   \n",
       "sale product views                  0.007613          0.007793   \n",
       "app transactions                    0.002697          0.017541   \n",
       "customer service calls             -0.012971          0.002500   \n",
       "churn                               0.092783          0.009307   \n",
       "\n",
       "                            sale product views  app transactions  \\\n",
       "account length                       -0.013176          0.020661   \n",
       "location code                         0.016522         -0.024179   \n",
       "user id                               0.014034         -0.017676   \n",
       "add to wishlist                       0.007123          0.013957   \n",
       "desktop sessions                      0.023060          0.008148   \n",
       "app sessions                          0.022918          0.008017   \n",
       "desktop transactions                  0.007323          0.000874   \n",
       "total product detail views           -0.019557          0.004574   \n",
       "session duration                      0.007613          0.002697   \n",
       "promotion clicks                      0.007793          0.017541   \n",
       "sale product views                    1.000000          0.000305   \n",
       "app transactions                      0.000305          1.000000   \n",
       "customer service calls               -0.012802         -0.017561   \n",
       "churn                                 0.006141         -0.052844   \n",
       "\n",
       "                            customer service calls     churn  \n",
       "account length                           -0.003796  0.016541  \n",
       "location code                             0.027572  0.006174  \n",
       "user id                                   0.033847  0.005730  \n",
       "add to wishlist                          -0.013263 -0.089728  \n",
       "desktop sessions                         -0.013432  0.205138  \n",
       "app sessions                             -0.012835  0.204683  \n",
       "desktop transactions                     -0.014265  0.091811  \n",
       "total product detail views               -0.018942  0.018459  \n",
       "session duration                         -0.012971  0.092783  \n",
       "promotion clicks                          0.002500  0.009307  \n",
       "sale product views                       -0.012802  0.006141  \n",
       "app transactions                         -0.017561 -0.052844  \n",
       "customer service calls                    1.000000  0.208750  \n",
       "churn                                     0.208750  1.000000  "
      ]
     },
     "execution_count": 7,
     "metadata": {},
     "output_type": "execute_result"
    }
   ],
   "source": [
    "correlation = df.corr()\n",
    "correlation"
   ]
  },
  {
   "cell_type": "code",
   "execution_count": 8,
   "id": "c5652435",
   "metadata": {
    "scrolled": true
   },
   "outputs": [
    {
     "data": {
      "image/png": "[encoded data removed]",
      "text/plain": [
       "<Figure size 432x288 with 2 Axes>"
      ]
     },
     "metadata": {
      "needs_background": "light"
     },
     "output_type": "display_data"
    }
   ],
   "source": [
    "sns.heatmap(correlation, cmap=\"YlGnBu\")\n",
    "plt.show()"
   ]
  },
  {
   "cell_type": "markdown",
   "id": "fd3d53d5",
   "metadata": {},
   "source": [
    "It is not surprising that the most correlated features are 'app sessions' and 'desktop sessions'."
   ]
  },
  {
   "cell_type": "code",
   "execution_count": 9,
   "id": "0cf3a133",
   "metadata": {},
   "outputs": [
    {
     "data": {
      "text/plain": [
       "0    2850\n",
       "1     483\n",
       "Name: churn, dtype: int64"
      ]
     },
     "execution_count": 9,
     "metadata": {},
     "output_type": "execute_result"
    }
   ],
   "source": [
    "df['churn'].value_counts()"
   ]
  },
  {
   "cell_type": "markdown",
   "id": "5a527340",
   "metadata": {},
   "source": [
    "###### Checking for missing values and cleaning the data"
   ]
  },
  {
   "cell_type": "code",
   "execution_count": 10,
   "id": "523ce691",
   "metadata": {},
   "outputs": [
    {
     "data": {
      "text/plain": [
       "account length                         False\n",
       "location code                          False\n",
       "user id                                False\n",
       "credit card info save                  False\n",
       "push status                            False\n",
       "add to wishlist                        False\n",
       "desktop sessions                       False\n",
       "app sessions                           False\n",
       "desktop transactions                   False\n",
       "total product detail views             False\n",
       "session duration                       False\n",
       "promotion clicks                       False\n",
       "avg order value                        False\n",
       "sale product views                     False\n",
       "discount rate per visited products     False\n",
       "product detail view per app session    False\n",
       "app transactions                       False\n",
       "add to cart per session                False\n",
       "customer service calls                 False\n",
       "churn                                  False\n",
       "dtype: bool"
      ]
     },
     "execution_count": 10,
     "metadata": {},
     "output_type": "execute_result"
    }
   ],
   "source": [
    "df.isna().any()"
   ]
  },
  {
   "cell_type": "markdown",
   "id": "806e3098",
   "metadata": {},
   "source": [
    "At this point dataframe seems to not including any missing values however it has to be cleaned and getting into a feauture selection process to perform a better model."
   ]
  },
  {
   "cell_type": "markdown",
   "id": "cf506bf0",
   "metadata": {},
   "source": [
    "#### Exploring the features and checking for binarity"
   ]
  },
  {
   "cell_type": "code",
   "execution_count": 11,
   "id": "118e7692",
   "metadata": {},
   "outputs": [],
   "source": [
    "columns = df.columns\n",
    "binary_cols = []\n",
    "for col in columns:\n",
    "    if df[col].value_counts().shape[0] == 2:\n",
    "        binary_cols.append(col)"
   ]
  },
  {
   "cell_type": "code",
   "execution_count": 12,
   "id": "4172d9de",
   "metadata": {},
   "outputs": [
    {
     "data": {
      "text/plain": [
       "['credit card info save', 'push status', 'churn']"
      ]
     },
     "execution_count": 12,
     "metadata": {},
     "output_type": "execute_result"
    }
   ],
   "source": [
    "#Categorical variables with only two classes\n",
    "binary_cols"
   ]
  },
  {
   "cell_type": "markdown",
   "id": "a22e8c71",
   "metadata": {},
   "source": [
    "So, that is to say that remaining variables are not binary ones and have more than two classes."
   ]
  },
  {
   "cell_type": "markdown",
   "id": "4df2045e",
   "metadata": {},
   "source": [
    "#### Checking for the class ditribution of binary categorical variables"
   ]
  },
  {
   "cell_type": "code",
   "execution_count": 13,
   "id": "0fb65c80",
   "metadata": {},
   "outputs": [
    {
     "data": {
      "text/plain": [
       "<AxesSubplot:xlabel='churn', ylabel='count'>"
      ]
     },
     "execution_count": 13,
     "metadata": {},
     "output_type": "execute_result"
    },
    {
     "data": {
      "image/png": "[encoded data removed]",
      "text/plain": [
       "<Figure size 1440x504 with 3 Axes>"
      ]
     },
     "metadata": {
      "needs_background": "light"
     },
     "output_type": "display_data"
    }
   ],
   "source": [
    "fig, axes = plt.subplots(1, 3, figsize=(20, 7))\n",
    "\n",
    "sns.countplot(\"credit card info save\", data=df, ax=axes[0])\n",
    "sns.countplot(\"push status\", data=df, ax=axes[1])\n",
    "sns.countplot(\"churn\", data=df, ax=axes[2])"
   ]
  },
  {
   "cell_type": "markdown",
   "id": "748f6485",
   "metadata": {},
   "source": [
    "Almost all three features are higly imbalanced."
   ]
  },
  {
   "cell_type": "code",
   "execution_count": 14,
   "id": "7b461aed",
   "metadata": {},
   "outputs": [
    {
     "data": {
      "text/html": [
       "<div>\n",
       "<style scoped>\n",
       "    .dataframe tbody tr th:only-of-type {\n",
       "        vertical-align: middle;\n",
       "    }\n",
       "\n",
       "    .dataframe tbody tr th {\n",
       "        vertical-align: top;\n",
       "    }\n",
       "\n",
       "    .dataframe thead th {\n",
       "        text-align: right;\n",
       "    }\n",
       "</style>\n",
       "<table border=\"1\" class=\"dataframe\">\n",
       "  <thead>\n",
       "    <tr style=\"text-align: right;\">\n",
       "      <th></th>\n",
       "      <th>churn</th>\n",
       "    </tr>\n",
       "    <tr>\n",
       "      <th>credit card info save</th>\n",
       "      <th></th>\n",
       "    </tr>\n",
       "  </thead>\n",
       "  <tbody>\n",
       "    <tr>\n",
       "      <th>no</th>\n",
       "      <td>0.114950</td>\n",
       "    </tr>\n",
       "    <tr>\n",
       "      <th>yes</th>\n",
       "      <td>0.424149</td>\n",
       "    </tr>\n",
       "  </tbody>\n",
       "</table>\n",
       "</div>"
      ],
      "text/plain": [
       "                          churn\n",
       "credit card info save          \n",
       "no                     0.114950\n",
       "yes                    0.424149"
      ]
     },
     "execution_count": 14,
     "metadata": {},
     "output_type": "execute_result"
    }
   ],
   "source": [
    "df[['credit card info save','churn']].groupby(['credit card info save']).mean()"
   ]
  },
  {
   "cell_type": "code",
   "execution_count": 15,
   "id": "0c90bac1",
   "metadata": {
    "scrolled": true
   },
   "outputs": [
    {
     "data": {
      "text/html": [
       "<div>\n",
       "<style scoped>\n",
       "    .dataframe tbody tr th:only-of-type {\n",
       "        vertical-align: middle;\n",
       "    }\n",
       "\n",
       "    .dataframe tbody tr th {\n",
       "        vertical-align: top;\n",
       "    }\n",
       "\n",
       "    .dataframe thead th {\n",
       "        text-align: right;\n",
       "    }\n",
       "</style>\n",
       "<table border=\"1\" class=\"dataframe\">\n",
       "  <thead>\n",
       "    <tr style=\"text-align: right;\">\n",
       "      <th></th>\n",
       "      <th>churn</th>\n",
       "    </tr>\n",
       "    <tr>\n",
       "      <th>push status</th>\n",
       "      <th></th>\n",
       "    </tr>\n",
       "  </thead>\n",
       "  <tbody>\n",
       "    <tr>\n",
       "      <th>no</th>\n",
       "      <td>0.167151</td>\n",
       "    </tr>\n",
       "    <tr>\n",
       "      <th>yes</th>\n",
       "      <td>0.086768</td>\n",
       "    </tr>\n",
       "  </tbody>\n",
       "</table>\n",
       "</div>"
      ],
      "text/plain": [
       "                churn\n",
       "push status          \n",
       "no           0.167151\n",
       "yes          0.086768"
      ]
     },
     "execution_count": 15,
     "metadata": {},
     "output_type": "execute_result"
    }
   ],
   "source": [
    "df[['push status','churn']].groupby(['push status']).mean()"
   ]
  },
  {
   "cell_type": "markdown",
   "id": "314624c4",
   "metadata": {},
   "source": [
    "The noticable differences between average churn rates for both features:'push status' and 'credit card info save' show that both\n",
    "    of the features are strong indicators regarding the prediction power of our model."
   ]
  },
  {
   "cell_type": "markdown",
   "id": "821fac20",
   "metadata": {},
   "source": [
    "##### Converting object type numerical features to float increase the efficiency of the model"
   ]
  },
  {
   "cell_type": "code",
   "execution_count": 16,
   "id": "dc306ad3",
   "metadata": {},
   "outputs": [],
   "source": [
    "df[\"avg order value\"] = df[\"avg order value\"].str.replace(\",\",\".\")\n",
    "df[\"avg order value\"] = df[\"avg order value\"].astype('float')"
   ]
  },
  {
   "cell_type": "code",
   "execution_count": 17,
   "id": "b6f6ffeb",
   "metadata": {},
   "outputs": [],
   "source": [
    "df[\"discount rate per visited products\"] = df[\"discount rate per visited products\"].str.replace(\",\",\".\")\n",
    "df[\"discount rate per visited products\"] = df[\"discount rate per visited products\"].astype('float')"
   ]
  },
  {
   "cell_type": "code",
   "execution_count": 18,
   "id": "3e9a3a86",
   "metadata": {},
   "outputs": [],
   "source": [
    "df[\"add to cart per session\"] = df[\"add to cart per session\"].str.replace(\",\",\".\")\n",
    "df[\"add to cart per session\"] = df[\"add to cart per session\"].astype('float')"
   ]
  },
  {
   "cell_type": "code",
   "execution_count": 19,
   "id": "1592bd19",
   "metadata": {},
   "outputs": [],
   "source": [
    "df[\"product detail view per app session\"] = df[\"product detail view per app session\"].str.replace(\",\",\".\")\n",
    "df[\"product detail view per app session\"] = df[\"product detail view per app session\"].astype('float')"
   ]
  },
  {
   "cell_type": "code",
   "execution_count": 20,
   "id": "f6188ebe",
   "metadata": {},
   "outputs": [
    {
     "data": {
      "text/plain": [
       "account length                           int64\n",
       "location code                            int64\n",
       "user id                                  int64\n",
       "credit card info save                   object\n",
       "push status                             object\n",
       "add to wishlist                          int64\n",
       "desktop sessions                         int64\n",
       "app sessions                             int64\n",
       "desktop transactions                     int64\n",
       "total product detail views               int64\n",
       "session duration                         int64\n",
       "promotion clicks                         int64\n",
       "avg order value                        float64\n",
       "sale product views                       int64\n",
       "discount rate per visited products     float64\n",
       "product detail view per app session    float64\n",
       "app transactions                         int64\n",
       "add to cart per session                float64\n",
       "customer service calls                   int64\n",
       "churn                                    int64\n",
       "dtype: object"
      ]
     },
     "execution_count": 20,
     "metadata": {},
     "output_type": "execute_result"
    }
   ],
   "source": [
    "df.dtypes"
   ]
  },
  {
   "cell_type": "markdown",
   "id": "47539bb6",
   "metadata": {},
   "source": [
    "##### Continuous features"
   ]
  },
  {
   "cell_type": "code",
   "execution_count": 21,
   "id": "b8c533b0",
   "metadata": {},
   "outputs": [
    {
     "data": {
      "text/plain": [
       "<AxesSubplot:xlabel='sale product views'>"
      ]
     },
     "execution_count": 21,
     "metadata": {},
     "output_type": "execute_result"
    },
    {
     "data": {
      "image/png": "[encoded data removed]",
      "text/plain": [
       "<Figure size 432x288 with 1 Axes>"
      ]
     },
     "metadata": {
      "needs_background": "light"
     },
     "output_type": "display_data"
    }
   ],
   "source": [
    "sns.boxplot(x=df['sale product views'])"
   ]
  },
  {
   "cell_type": "code",
   "execution_count": 22,
   "id": "f5b27930",
   "metadata": {},
   "outputs": [
    {
     "data": {
      "text/plain": [
       "<AxesSubplot:xlabel='customer service calls'>"
      ]
     },
     "execution_count": 22,
     "metadata": {},
     "output_type": "execute_result"
    },
    {
     "data": {
      "image/png": "[encoded data removed]",
      "text/plain": [
       "<Figure size 432x288 with 1 Axes>"
      ]
     },
     "metadata": {
      "needs_background": "light"
     },
     "output_type": "display_data"
    }
   ],
   "source": [
    "sns.boxplot(x=df['customer service calls'])"
   ]
  },
  {
   "cell_type": "code",
   "execution_count": 23,
   "id": "0359a928",
   "metadata": {},
   "outputs": [
    {
     "data": {
      "text/html": [
       "<div>\n",
       "<style scoped>\n",
       "    .dataframe tbody tr th:only-of-type {\n",
       "        vertical-align: middle;\n",
       "    }\n",
       "\n",
       "    .dataframe tbody tr th {\n",
       "        vertical-align: top;\n",
       "    }\n",
       "\n",
       "    .dataframe thead th {\n",
       "        text-align: right;\n",
       "    }\n",
       "</style>\n",
       "<table border=\"1\" class=\"dataframe\">\n",
       "  <thead>\n",
       "    <tr style=\"text-align: right;\">\n",
       "      <th></th>\n",
       "      <th>sale product views</th>\n",
       "      <th>customer service calls</th>\n",
       "    </tr>\n",
       "    <tr>\n",
       "      <th>churn</th>\n",
       "      <th></th>\n",
       "      <th></th>\n",
       "    </tr>\n",
       "  </thead>\n",
       "  <tbody>\n",
       "    <tr>\n",
       "      <th>0</th>\n",
       "      <td>100.058246</td>\n",
       "      <td>1.449825</td>\n",
       "    </tr>\n",
       "    <tr>\n",
       "      <th>1</th>\n",
       "      <td>100.399586</td>\n",
       "      <td>2.229814</td>\n",
       "    </tr>\n",
       "  </tbody>\n",
       "</table>\n",
       "</div>"
      ],
      "text/plain": [
       "       sale product views  customer service calls\n",
       "churn                                            \n",
       "0              100.058246                1.449825\n",
       "1              100.399586                2.229814"
      ]
     },
     "execution_count": 23,
     "metadata": {},
     "output_type": "execute_result"
    }
   ],
   "source": [
    "df[['sale product views', 'customer service calls', 'churn']].groupby('churn').mean()"
   ]
  },
  {
   "cell_type": "markdown",
   "id": "beaa5202",
   "metadata": {},
   "source": [
    "Even though the 'sale product views' does not have a strong effect on costumers to leave, however\n",
    "'customer service calls' has a crucial effect on customers to leave the company. It is clear that the more the customer has to deal with the customer service calls, the more likely he or she is  going to leave the company."
   ]
  },
  {
   "cell_type": "code",
   "execution_count": 24,
   "id": "77cc489a",
   "metadata": {},
   "outputs": [
    {
     "data": {
      "text/plain": [
       "<AxesSubplot:xlabel='discount rate per visited products', ylabel='Density'>"
      ]
     },
     "execution_count": 24,
     "metadata": {},
     "output_type": "execute_result"
    },
    {
     "data": {
      "image/png": "[encoded data removed]",
      "text/plain": [
       "<Figure size 864x504 with 3 Axes>"
      ]
     },
     "metadata": {
      "needs_background": "light"
     },
     "output_type": "display_data"
    }
   ],
   "source": [
    "fig, axes = plt.subplots(1,3, figsize=(12, 7))\n",
    "sns.distplot(df[\"account length\"], ax=axes[0])\n",
    "sns.distplot(df[\"session duration\"], ax=axes[1])\n",
    "sns.distplot(df[\"discount rate per visited products\"], ax=axes[2])\n",
    "\n"
   ]
  },
  {
   "cell_type": "markdown",
   "id": "a5639f7c",
   "metadata": {},
   "source": [
    "Account length shows the period of time in which the customer account is actively used while the session duration indicates the\n",
    "time period when the user active on the website. The all three features are normally distributed. "
   ]
  },
  {
   "cell_type": "code",
   "execution_count": 25,
   "id": "f53470d2",
   "metadata": {},
   "outputs": [
    {
     "data": {
      "text/html": [
       "<div>\n",
       "<style scoped>\n",
       "    .dataframe tbody tr th:only-of-type {\n",
       "        vertical-align: middle;\n",
       "    }\n",
       "\n",
       "    .dataframe tbody tr th {\n",
       "        vertical-align: top;\n",
       "    }\n",
       "\n",
       "    .dataframe thead th {\n",
       "        text-align: right;\n",
       "    }\n",
       "</style>\n",
       "<table border=\"1\" class=\"dataframe\">\n",
       "  <thead>\n",
       "    <tr style=\"text-align: right;\">\n",
       "      <th></th>\n",
       "      <th>account length</th>\n",
       "      <th>session duration</th>\n",
       "      <th>discount rate per visited products</th>\n",
       "    </tr>\n",
       "    <tr>\n",
       "      <th>churn</th>\n",
       "      <th></th>\n",
       "      <th></th>\n",
       "      <th></th>\n",
       "    </tr>\n",
       "  </thead>\n",
       "  <tbody>\n",
       "    <tr>\n",
       "      <th>0</th>\n",
       "      <td>100.793684</td>\n",
       "      <td>199.102807</td>\n",
       "      <td>9.006074</td>\n",
       "    </tr>\n",
       "    <tr>\n",
       "      <th>1</th>\n",
       "      <td>102.664596</td>\n",
       "      <td>212.467909</td>\n",
       "      <td>9.235528</td>\n",
       "    </tr>\n",
       "  </tbody>\n",
       "</table>\n",
       "</div>"
      ],
      "text/plain": [
       "       account length  session duration  discount rate per visited products\n",
       "churn                                                                      \n",
       "0          100.793684        199.102807                            9.006074\n",
       "1          102.664596        212.467909                            9.235528"
      ]
     },
     "execution_count": 25,
     "metadata": {},
     "output_type": "execute_result"
    }
   ],
   "source": [
    "df[['account length', 'session duration', 'discount rate per visited products', 'churn']].groupby('churn').mean()"
   ]
  },
  {
   "cell_type": "markdown",
   "id": "ad7ef4b3",
   "metadata": {},
   "source": [
    "These three parameters seem to have a weak impact on customers to churn. Therefore, it may be considered that these variables might not be a perfect fit in order to use in the machine learning algorithms."
   ]
  },
  {
   "cell_type": "code",
   "execution_count": 26,
   "id": "e37a181a",
   "metadata": {},
   "outputs": [
    {
     "data": {
      "text/html": [
       "<div>\n",
       "<style scoped>\n",
       "    .dataframe tbody tr th:only-of-type {\n",
       "        vertical-align: middle;\n",
       "    }\n",
       "\n",
       "    .dataframe tbody tr th {\n",
       "        vertical-align: top;\n",
       "    }\n",
       "\n",
       "    .dataframe thead th {\n",
       "        text-align: right;\n",
       "    }\n",
       "</style>\n",
       "<table border=\"1\" class=\"dataframe\">\n",
       "  <thead>\n",
       "    <tr style=\"text-align: right;\">\n",
       "      <th></th>\n",
       "      <th>desktop sessions</th>\n",
       "    </tr>\n",
       "    <tr>\n",
       "      <th>churn</th>\n",
       "      <th></th>\n",
       "    </tr>\n",
       "  </thead>\n",
       "  <tbody>\n",
       "    <tr>\n",
       "      <th>0</th>\n",
       "      <td>175.213684</td>\n",
       "    </tr>\n",
       "    <tr>\n",
       "      <th>1</th>\n",
       "      <td>206.944099</td>\n",
       "    </tr>\n",
       "  </tbody>\n",
       "</table>\n",
       "</div>"
      ],
      "text/plain": [
       "       desktop sessions\n",
       "churn                  \n",
       "0            175.213684\n",
       "1            206.944099"
      ]
     },
     "execution_count": 26,
     "metadata": {},
     "output_type": "execute_result"
    }
   ],
   "source": [
    "df[['desktop sessions', 'churn']].groupby('churn').mean()"
   ]
  },
  {
   "cell_type": "markdown",
   "id": "311e7238",
   "metadata": {},
   "source": [
    "'Desktop sessions' is another significant indicator of churn rate, so it might be important to include it in the model."
   ]
  },
  {
   "cell_type": "code",
   "execution_count": 27,
   "id": "e1d9389a",
   "metadata": {
    "scrolled": true
   },
   "outputs": [
    {
     "data": {
      "text/html": [
       "<div>\n",
       "<style scoped>\n",
       "    .dataframe tbody tr th:only-of-type {\n",
       "        vertical-align: middle;\n",
       "    }\n",
       "\n",
       "    .dataframe tbody tr th {\n",
       "        vertical-align: top;\n",
       "    }\n",
       "\n",
       "    .dataframe thead th {\n",
       "        text-align: right;\n",
       "    }\n",
       "</style>\n",
       "<table border=\"1\" class=\"dataframe\">\n",
       "  <thead>\n",
       "    <tr style=\"text-align: right;\">\n",
       "      <th></th>\n",
       "      <th>account length</th>\n",
       "      <th>location code</th>\n",
       "      <th>user id</th>\n",
       "      <th>add to wishlist</th>\n",
       "      <th>desktop sessions</th>\n",
       "      <th>app sessions</th>\n",
       "      <th>desktop transactions</th>\n",
       "      <th>total product detail views</th>\n",
       "      <th>session duration</th>\n",
       "      <th>promotion clicks</th>\n",
       "      <th>avg order value</th>\n",
       "      <th>sale product views</th>\n",
       "      <th>discount rate per visited products</th>\n",
       "      <th>product detail view per app session</th>\n",
       "      <th>app transactions</th>\n",
       "      <th>add to cart per session</th>\n",
       "      <th>customer service calls</th>\n",
       "    </tr>\n",
       "    <tr>\n",
       "      <th>churn</th>\n",
       "      <th></th>\n",
       "      <th></th>\n",
       "      <th></th>\n",
       "      <th></th>\n",
       "      <th></th>\n",
       "      <th></th>\n",
       "      <th></th>\n",
       "      <th></th>\n",
       "      <th></th>\n",
       "      <th></th>\n",
       "      <th></th>\n",
       "      <th></th>\n",
       "      <th></th>\n",
       "      <th></th>\n",
       "      <th></th>\n",
       "      <th></th>\n",
       "      <th></th>\n",
       "    </tr>\n",
       "  </thead>\n",
       "  <tbody>\n",
       "    <tr>\n",
       "      <th>0</th>\n",
       "      <td>100.793684</td>\n",
       "      <td>437.074737</td>\n",
       "      <td>3.745643e+06</td>\n",
       "      <td>8.604561</td>\n",
       "      <td>175.213684</td>\n",
       "      <td>29.787018</td>\n",
       "      <td>16.924211</td>\n",
       "      <td>100.283158</td>\n",
       "      <td>199.102807</td>\n",
       "      <td>100.034386</td>\n",
       "      <td>200.133193</td>\n",
       "      <td>100.058246</td>\n",
       "      <td>9.006074</td>\n",
       "      <td>10.158877</td>\n",
       "      <td>4.532982</td>\n",
       "      <td>2.743404</td>\n",
       "      <td>1.449825</td>\n",
       "    </tr>\n",
       "    <tr>\n",
       "      <th>1</th>\n",
       "      <td>102.664596</td>\n",
       "      <td>437.817805</td>\n",
       "      <td>3.750114e+06</td>\n",
       "      <td>5.115942</td>\n",
       "      <td>206.944099</td>\n",
       "      <td>35.175983</td>\n",
       "      <td>18.051760</td>\n",
       "      <td>101.335404</td>\n",
       "      <td>212.467909</td>\n",
       "      <td>100.561077</td>\n",
       "      <td>205.231677</td>\n",
       "      <td>100.399586</td>\n",
       "      <td>9.235528</td>\n",
       "      <td>10.700000</td>\n",
       "      <td>4.163561</td>\n",
       "      <td>2.889545</td>\n",
       "      <td>2.229814</td>\n",
       "    </tr>\n",
       "  </tbody>\n",
       "</table>\n",
       "</div>"
      ],
      "text/plain": [
       "       account length  location code       user id  add to wishlist  \\\n",
       "churn                                                                 \n",
       "0          100.793684     437.074737  3.745643e+06         8.604561   \n",
       "1          102.664596     437.817805  3.750114e+06         5.115942   \n",
       "\n",
       "       desktop sessions  app sessions  desktop transactions  \\\n",
       "churn                                                         \n",
       "0            175.213684     29.787018             16.924211   \n",
       "1            206.944099     35.175983             18.051760   \n",
       "\n",
       "       total product detail views  session duration  promotion clicks  \\\n",
       "churn                                                                   \n",
       "0                      100.283158        199.102807        100.034386   \n",
       "1                      101.335404        212.467909        100.561077   \n",
       "\n",
       "       avg order value  sale product views  \\\n",
       "churn                                        \n",
       "0           200.133193          100.058246   \n",
       "1           205.231677          100.399586   \n",
       "\n",
       "       discount rate per visited products  \\\n",
       "churn                                       \n",
       "0                                9.006074   \n",
       "1                                9.235528   \n",
       "\n",
       "       product detail view per app session  app transactions  \\\n",
       "churn                                                          \n",
       "0                                10.158877          4.532982   \n",
       "1                                10.700000          4.163561   \n",
       "\n",
       "       add to cart per session  customer service calls  \n",
       "churn                                                   \n",
       "0                     2.743404                1.449825  \n",
       "1                     2.889545                2.229814  "
      ]
     },
     "execution_count": 27,
     "metadata": {},
     "output_type": "execute_result"
    }
   ],
   "source": [
    "df.groupby('churn').mean()"
   ]
  },
  {
   "cell_type": "markdown",
   "id": "f5d917dd",
   "metadata": {},
   "source": [
    "##### Feature Selection"
   ]
  },
  {
   "cell_type": "code",
   "execution_count": 28,
   "id": "88b9944d",
   "metadata": {},
   "outputs": [],
   "source": [
    "df = df.drop(['user id'], axis= 1)"
   ]
  },
  {
   "cell_type": "markdown",
   "id": "27ad522f",
   "metadata": {},
   "source": [
    "Since the 'user id' feature is too unique and weak in terms of predictional power, I decided to drop it and not to include it in the model. "
   ]
  },
  {
   "cell_type": "code",
   "execution_count": 29,
   "id": "880f4974",
   "metadata": {},
   "outputs": [],
   "source": [
    "df = df.drop(columns = ['location code','promotion clicks','sale product views','add to cart per session','product detail view per app session','discount rate per visited products', 'app transactions'], axis= 1)"
   ]
  },
  {
   "cell_type": "markdown",
   "id": "8f148542",
   "metadata": {},
   "source": [
    "I've decided to drop 'location code','promotion clicks','sale product views','add to cart per session','product detail view per app session','discount rate per visited products', 'app transactions' features\n",
    "since they add little or no informative power to the model."
   ]
  },
  {
   "cell_type": "code",
   "execution_count": 30,
   "id": "7b94edb4",
   "metadata": {},
   "outputs": [],
   "source": [
    "# Creating dummy using the categorical variables for encoding \n",
    "cat_vars = df.select_dtypes(include=['object']).copy().columns\n",
    "for var in  cat_vars:\n",
    "        # for each cat add dummy var, drop original column\n",
    "    df = pd.concat([df.drop(var, axis=1), pd.get_dummies(df[var], prefix=var, prefix_sep='_', drop_first=True)], axis=1)"
   ]
  },
  {
   "cell_type": "code",
   "execution_count": 31,
   "id": "88508cb1",
   "metadata": {},
   "outputs": [
    {
     "data": {
      "text/html": [
       "<div>\n",
       "<style scoped>\n",
       "    .dataframe tbody tr th:only-of-type {\n",
       "        vertical-align: middle;\n",
       "    }\n",
       "\n",
       "    .dataframe tbody tr th {\n",
       "        vertical-align: top;\n",
       "    }\n",
       "\n",
       "    .dataframe thead th {\n",
       "        text-align: right;\n",
       "    }\n",
       "</style>\n",
       "<table border=\"1\" class=\"dataframe\">\n",
       "  <thead>\n",
       "    <tr style=\"text-align: right;\">\n",
       "      <th></th>\n",
       "      <th>account length</th>\n",
       "      <th>add to wishlist</th>\n",
       "      <th>desktop sessions</th>\n",
       "      <th>app sessions</th>\n",
       "      <th>desktop transactions</th>\n",
       "      <th>total product detail views</th>\n",
       "      <th>session duration</th>\n",
       "      <th>avg order value</th>\n",
       "      <th>customer service calls</th>\n",
       "      <th>churn</th>\n",
       "      <th>credit card info save_yes</th>\n",
       "      <th>push status_yes</th>\n",
       "    </tr>\n",
       "  </thead>\n",
       "  <tbody>\n",
       "    <tr>\n",
       "      <th>0</th>\n",
       "      <td>128</td>\n",
       "      <td>25</td>\n",
       "      <td>265</td>\n",
       "      <td>45</td>\n",
       "      <td>17</td>\n",
       "      <td>110</td>\n",
       "      <td>197</td>\n",
       "      <td>244.7</td>\n",
       "      <td>1</td>\n",
       "      <td>0</td>\n",
       "      <td>0</td>\n",
       "      <td>1</td>\n",
       "    </tr>\n",
       "    <tr>\n",
       "      <th>1</th>\n",
       "      <td>107</td>\n",
       "      <td>26</td>\n",
       "      <td>162</td>\n",
       "      <td>27</td>\n",
       "      <td>17</td>\n",
       "      <td>123</td>\n",
       "      <td>196</td>\n",
       "      <td>254.4</td>\n",
       "      <td>1</td>\n",
       "      <td>0</td>\n",
       "      <td>0</td>\n",
       "      <td>1</td>\n",
       "    </tr>\n",
       "    <tr>\n",
       "      <th>2</th>\n",
       "      <td>137</td>\n",
       "      <td>0</td>\n",
       "      <td>243</td>\n",
       "      <td>41</td>\n",
       "      <td>10</td>\n",
       "      <td>114</td>\n",
       "      <td>121</td>\n",
       "      <td>162.6</td>\n",
       "      <td>0</td>\n",
       "      <td>0</td>\n",
       "      <td>0</td>\n",
       "      <td>0</td>\n",
       "    </tr>\n",
       "    <tr>\n",
       "      <th>3</th>\n",
       "      <td>84</td>\n",
       "      <td>0</td>\n",
       "      <td>299</td>\n",
       "      <td>51</td>\n",
       "      <td>5</td>\n",
       "      <td>71</td>\n",
       "      <td>62</td>\n",
       "      <td>196.9</td>\n",
       "      <td>2</td>\n",
       "      <td>0</td>\n",
       "      <td>1</td>\n",
       "      <td>0</td>\n",
       "    </tr>\n",
       "    <tr>\n",
       "      <th>4</th>\n",
       "      <td>75</td>\n",
       "      <td>0</td>\n",
       "      <td>167</td>\n",
       "      <td>28</td>\n",
       "      <td>13</td>\n",
       "      <td>113</td>\n",
       "      <td>148</td>\n",
       "      <td>186.9</td>\n",
       "      <td>3</td>\n",
       "      <td>0</td>\n",
       "      <td>1</td>\n",
       "      <td>0</td>\n",
       "    </tr>\n",
       "  </tbody>\n",
       "</table>\n",
       "</div>"
      ],
      "text/plain": [
       "   account length  add to wishlist  desktop sessions  app sessions  \\\n",
       "0             128               25               265            45   \n",
       "1             107               26               162            27   \n",
       "2             137                0               243            41   \n",
       "3              84                0               299            51   \n",
       "4              75                0               167            28   \n",
       "\n",
       "   desktop transactions  total product detail views  session duration  \\\n",
       "0                    17                         110               197   \n",
       "1                    17                         123               196   \n",
       "2                    10                         114               121   \n",
       "3                     5                          71                62   \n",
       "4                    13                         113               148   \n",
       "\n",
       "   avg order value  customer service calls  churn  credit card info save_yes  \\\n",
       "0            244.7                       1      0                          0   \n",
       "1            254.4                       1      0                          0   \n",
       "2            162.6                       0      0                          0   \n",
       "3            196.9                       2      0                          1   \n",
       "4            186.9                       3      0                          1   \n",
       "\n",
       "   push status_yes  \n",
       "0                1  \n",
       "1                1  \n",
       "2                0  \n",
       "3                0  \n",
       "4                0  "
      ]
     },
     "execution_count": 31,
     "metadata": {},
     "output_type": "execute_result"
    }
   ],
   "source": [
    "df.head()"
   ]
  },
  {
   "cell_type": "markdown",
   "id": "19a52c6c",
   "metadata": {},
   "source": [
    "## Evaluation & Deployment"
   ]
  },
  {
   "cell_type": "code",
   "execution_count": 32,
   "id": "29b3bc41",
   "metadata": {},
   "outputs": [
    {
     "data": {
      "text/html": [
       "<div>\n",
       "<style scoped>\n",
       "    .dataframe tbody tr th:only-of-type {\n",
       "        vertical-align: middle;\n",
       "    }\n",
       "\n",
       "    .dataframe tbody tr th {\n",
       "        vertical-align: top;\n",
       "    }\n",
       "\n",
       "    .dataframe thead th {\n",
       "        text-align: right;\n",
       "    }\n",
       "</style>\n",
       "<table border=\"1\" class=\"dataframe\">\n",
       "  <thead>\n",
       "    <tr style=\"text-align: right;\">\n",
       "      <th></th>\n",
       "      <th>account length</th>\n",
       "      <th>add to wishlist</th>\n",
       "      <th>desktop sessions</th>\n",
       "      <th>app sessions</th>\n",
       "      <th>desktop transactions</th>\n",
       "      <th>total product detail views</th>\n",
       "      <th>session duration</th>\n",
       "      <th>avg order value</th>\n",
       "      <th>customer service calls</th>\n",
       "      <th>credit card info save_yes</th>\n",
       "      <th>push status_yes</th>\n",
       "    </tr>\n",
       "  </thead>\n",
       "  <tbody>\n",
       "    <tr>\n",
       "      <th>0</th>\n",
       "      <td>128</td>\n",
       "      <td>25</td>\n",
       "      <td>265</td>\n",
       "      <td>45</td>\n",
       "      <td>17</td>\n",
       "      <td>110</td>\n",
       "      <td>197</td>\n",
       "      <td>244.7</td>\n",
       "      <td>1</td>\n",
       "      <td>0</td>\n",
       "      <td>1</td>\n",
       "    </tr>\n",
       "    <tr>\n",
       "      <th>1</th>\n",
       "      <td>107</td>\n",
       "      <td>26</td>\n",
       "      <td>162</td>\n",
       "      <td>27</td>\n",
       "      <td>17</td>\n",
       "      <td>123</td>\n",
       "      <td>196</td>\n",
       "      <td>254.4</td>\n",
       "      <td>1</td>\n",
       "      <td>0</td>\n",
       "      <td>1</td>\n",
       "    </tr>\n",
       "    <tr>\n",
       "      <th>2</th>\n",
       "      <td>137</td>\n",
       "      <td>0</td>\n",
       "      <td>243</td>\n",
       "      <td>41</td>\n",
       "      <td>10</td>\n",
       "      <td>114</td>\n",
       "      <td>121</td>\n",
       "      <td>162.6</td>\n",
       "      <td>0</td>\n",
       "      <td>0</td>\n",
       "      <td>0</td>\n",
       "    </tr>\n",
       "    <tr>\n",
       "      <th>3</th>\n",
       "      <td>84</td>\n",
       "      <td>0</td>\n",
       "      <td>299</td>\n",
       "      <td>51</td>\n",
       "      <td>5</td>\n",
       "      <td>71</td>\n",
       "      <td>62</td>\n",
       "      <td>196.9</td>\n",
       "      <td>2</td>\n",
       "      <td>1</td>\n",
       "      <td>0</td>\n",
       "    </tr>\n",
       "    <tr>\n",
       "      <th>4</th>\n",
       "      <td>75</td>\n",
       "      <td>0</td>\n",
       "      <td>167</td>\n",
       "      <td>28</td>\n",
       "      <td>13</td>\n",
       "      <td>113</td>\n",
       "      <td>148</td>\n",
       "      <td>186.9</td>\n",
       "      <td>3</td>\n",
       "      <td>1</td>\n",
       "      <td>0</td>\n",
       "    </tr>\n",
       "  </tbody>\n",
       "</table>\n",
       "</div>"
      ],
      "text/plain": [
       "   account length  add to wishlist  desktop sessions  app sessions  \\\n",
       "0             128               25               265            45   \n",
       "1             107               26               162            27   \n",
       "2             137                0               243            41   \n",
       "3              84                0               299            51   \n",
       "4              75                0               167            28   \n",
       "\n",
       "   desktop transactions  total product detail views  session duration  \\\n",
       "0                    17                         110               197   \n",
       "1                    17                         123               196   \n",
       "2                    10                         114               121   \n",
       "3                     5                          71                62   \n",
       "4                    13                         113               148   \n",
       "\n",
       "   avg order value  customer service calls  credit card info save_yes  \\\n",
       "0            244.7                       1                          0   \n",
       "1            254.4                       1                          0   \n",
       "2            162.6                       0                          0   \n",
       "3            196.9                       2                          1   \n",
       "4            186.9                       3                          1   \n",
       "\n",
       "   push status_yes  \n",
       "0                1  \n",
       "1                1  \n",
       "2                0  \n",
       "3                0  \n",
       "4                0  "
      ]
     },
     "execution_count": 32,
     "metadata": {},
     "output_type": "execute_result"
    }
   ],
   "source": [
    "X = df.drop(columns=['churn'])\n",
    "X.head()"
   ]
  },
  {
   "cell_type": "code",
   "execution_count": 33,
   "id": "d1f39758",
   "metadata": {},
   "outputs": [
    {
     "data": {
      "text/plain": [
       "0    0\n",
       "1    0\n",
       "2    0\n",
       "3    0\n",
       "4    0\n",
       "Name: churn, dtype: int64"
      ]
     },
     "execution_count": 33,
     "metadata": {},
     "output_type": "execute_result"
    }
   ],
   "source": [
    "y = df['churn']\n",
    "df = df.drop(columns=['churn'])\n",
    "y.head()"
   ]
  },
  {
   "cell_type": "markdown",
   "id": "78060c74",
   "metadata": {},
   "source": [
    "# Building Random Forest Model"
   ]
  },
  {
   "cell_type": "code",
   "execution_count": 34,
   "id": "53ecc6b4",
   "metadata": {},
   "outputs": [],
   "source": [
    "feature_names = [f'feature {i}' for i in range(X.shape[1])]"
   ]
  },
  {
   "cell_type": "markdown",
   "id": "339032a5",
   "metadata": {},
   "source": [
    "## Train score = 0.6, Test score = 0.4"
   ]
  },
  {
   "cell_type": "code",
   "execution_count": 35,
   "id": "33b34ee9",
   "metadata": {},
   "outputs": [],
   "source": [
    "train_X, test_X, train_y, test_y = train_test_split(X, y, test_size= 0.4, random_state= 42)"
   ]
  },
  {
   "cell_type": "code",
   "execution_count": 36,
   "id": "7907b161",
   "metadata": {},
   "outputs": [
    {
     "name": "stdout",
     "output_type": "stream",
     "text": [
      "Training set accuracy:  1.000\n",
      "Test set accuracy:  0.915\n"
     ]
    }
   ],
   "source": [
    "rf_model = rf = RandomForestClassifier(n_estimators=100, max_depth=20,\n",
    "                              random_state=42)\n",
    "rf_model.fit(train_X, train_y)\n",
    "churn_preds = rf_model.predict(test_X)\n",
    "score = rf_model.score(train_X, train_y)\n",
    "score2 = rf_model.score(test_X, test_y)\n",
    "print(\"Training set accuracy: \", '%.3f'%(score))\n",
    "print(\"Test set accuracy: \", '%.3f'%(score2))"
   ]
  },
  {
   "cell_type": "code",
   "execution_count": 37,
   "id": "f68cb8b8",
   "metadata": {
    "scrolled": true
   },
   "outputs": [
    {
     "data": {
      "text/plain": [
       "array([0.07064261, 0.04021858, 0.17649266, 0.13871449, 0.07048222,\n",
       "       0.06871092, 0.10629433, 0.08639924, 0.14676001, 0.06604515,\n",
       "       0.0292398 ])"
      ]
     },
     "execution_count": 37,
     "metadata": {},
     "output_type": "execute_result"
    }
   ],
   "source": [
    "rf_model.feature_importances_"
   ]
  },
  {
   "cell_type": "markdown",
   "id": "99841378",
   "metadata": {},
   "source": [
    "#### Feature Importances"
   ]
  },
  {
   "cell_type": "code",
   "execution_count": 38,
   "id": "dcca0ffb",
   "metadata": {},
   "outputs": [
    {
     "data": {
      "text/plain": [
       "<AxesSubplot:>"
      ]
     },
     "execution_count": 38,
     "metadata": {},
     "output_type": "execute_result"
    },
    {
     "data": {
      "image/png": "[encoded data removed]",
      "text/plain": [
       "<Figure size 432x288 with 1 Axes>"
      ]
     },
     "metadata": {
      "needs_background": "light"
     },
     "output_type": "display_data"
    }
   ],
   "source": [
    "(pd.Series(rf_model.feature_importances_, index=X.columns)\n",
    "   .nlargest(11)\n",
    "   .plot(kind='barh')) "
   ]
  },
  {
   "cell_type": "markdown",
   "id": "1e9a7e8a",
   "metadata": {},
   "source": [
    "## Train score = 0.8, Test score = 0.2"
   ]
  },
  {
   "cell_type": "code",
   "execution_count": 39,
   "id": "58823d2c",
   "metadata": {},
   "outputs": [],
   "source": [
    "train_X, test_X, train_y, test_y = train_test_split(X, y, test_size= 0.2, random_state= 42)"
   ]
  },
  {
   "cell_type": "code",
   "execution_count": 40,
   "id": "eb40e920",
   "metadata": {},
   "outputs": [
    {
     "name": "stdout",
     "output_type": "stream",
     "text": [
      "Training set accuracy:  1.000\n",
      "Test set accuracy:  0.922\n"
     ]
    }
   ],
   "source": [
    "rf_model = rf = RandomForestClassifier(n_estimators=100, max_depth=20,\n",
    "                              random_state=42)\n",
    "rf_model.fit(train_X, train_y)\n",
    "churn_preds = rf_model.predict(test_X)\n",
    "score = rf_model.score(train_X, train_y)\n",
    "score2 = rf_model.score(test_X, test_y)\n",
    "print(\"Training set accuracy: \", '%.3f'%(score))\n",
    "print(\"Test set accuracy: \", '%.3f'%(score2))"
   ]
  },
  {
   "cell_type": "code",
   "execution_count": 41,
   "id": "9ef85d94",
   "metadata": {},
   "outputs": [
    {
     "data": {
      "text/plain": [
       "array([0.06984032, 0.03787545, 0.17732388, 0.13785019, 0.068888  ,\n",
       "       0.0651566 , 0.11505308, 0.08978995, 0.14212219, 0.07018872,\n",
       "       0.02591162])"
      ]
     },
     "execution_count": 41,
     "metadata": {},
     "output_type": "execute_result"
    }
   ],
   "source": [
    "rf_model.feature_importances_"
   ]
  },
  {
   "cell_type": "markdown",
   "id": "df59357b",
   "metadata": {},
   "source": [
    "#### Feature Importances"
   ]
  },
  {
   "cell_type": "code",
   "execution_count": 42,
   "id": "7326246a",
   "metadata": {},
   "outputs": [
    {
     "data": {
      "text/plain": [
       "<AxesSubplot:>"
      ]
     },
     "execution_count": 42,
     "metadata": {},
     "output_type": "execute_result"
    },
    {
     "data": {
      "image/png": "[encoded data removed]",
      "text/plain": [
       "<Figure size 432x288 with 1 Axes>"
      ]
     },
     "metadata": {
      "needs_background": "light"
     },
     "output_type": "display_data"
    }
   ],
   "source": [
    "(pd.Series(rf_model.feature_importances_, index=X.columns)\n",
    "   .nlargest(11)\n",
    "   .plot(kind='barh')) "
   ]
  },
  {
   "cell_type": "markdown",
   "id": "449b95ec",
   "metadata": {},
   "source": [
    "### Interpratation of the results for RandomForest models"
   ]
  },
  {
   "cell_type": "markdown",
   "id": "91ea0125",
   "metadata": {},
   "source": [
    "As it can be seen from the barcharts above, using RandomForest model with test_size of 0.2 and 0.4,\n",
    "we concluded that the top 3 explanatory variables that have the most significant effect on the churn rate \n",
    "are 'desktop sessions', 'customer service calls' and 'app sessions'."
   ]
  },
  {
   "cell_type": "markdown",
   "id": "c26f7fa8",
   "metadata": {},
   "source": [
    "# Building Xgboost Model"
   ]
  },
  {
   "cell_type": "markdown",
   "id": "0e132e24",
   "metadata": {},
   "source": [
    "## Train score = 0.6, Test score = 0.4"
   ]
  },
  {
   "cell_type": "code",
   "execution_count": 43,
   "id": "fb54074f",
   "metadata": {},
   "outputs": [],
   "source": [
    "train_X, test_X, train_y, test_y = train_test_split(X, y, test_size= 0.4, random_state= 42)"
   ]
  },
  {
   "cell_type": "code",
   "execution_count": 44,
   "id": "4869bdd4",
   "metadata": {},
   "outputs": [
    {
     "name": "stdout",
     "output_type": "stream",
     "text": [
      "[00:01:21] WARNING: /Users/runner/work/xgboost/xgboost/src/learner.cc:1115: Starting in XGBoost 1.3.0, the default evaluation metric used with the objective 'binary:logistic' was changed from 'error' to 'logloss'. Explicitly set eval_metric if you'd like to restore the old behavior.\n",
      "Accuracy: 92.35%\n"
     ]
    }
   ],
   "source": [
    "xgb_model = xgb.XGBClassifier(objective='binary:logistic',\n",
    "                              n_estimators=700,\n",
    "                              learning_rate=0.03,\n",
    "                              max_depth=16,   \n",
    "                              gamma=0.25,\n",
    "                              n_jobs= -1,\n",
    "                              random_state= 42,\n",
    "                              subsample=0.9,\n",
    "                              min_child_weight=1)\n",
    "xgb_model.fit(train_X, train_y)\n",
    "# make predictions for test data\n",
    "y_pred = xgb_model.predict(test_X)\n",
    "predictions = [round(value) for value in y_pred]\n",
    "# evaluate predictions\n",
    "accuracy = accuracy_score(test_y, predictions)\n",
    "print(\"Accuracy: %.2f%%\" % (accuracy * 100.0))"
   ]
  },
  {
   "cell_type": "code",
   "execution_count": 45,
   "id": "6793c34a",
   "metadata": {},
   "outputs": [
    {
     "data": {
      "text/plain": [
       "array([0.04570927, 0.12341689, 0.12490495, 0.03069632, 0.08248243,\n",
       "       0.04791319, 0.08241624, 0.05693655, 0.17042723, 0.2350969 ,\n",
       "       0.        ], dtype=float32)"
      ]
     },
     "execution_count": 45,
     "metadata": {},
     "output_type": "execute_result"
    }
   ],
   "source": [
    "xgb_model.feature_importances_"
   ]
  },
  {
   "cell_type": "markdown",
   "id": "89b17069",
   "metadata": {},
   "source": [
    "#### Feature Importances"
   ]
  },
  {
   "cell_type": "code",
   "execution_count": 46,
   "id": "312d5438",
   "metadata": {},
   "outputs": [
    {
     "data": {
      "text/plain": [
       "<AxesSubplot:>"
      ]
     },
     "execution_count": 46,
     "metadata": {},
     "output_type": "execute_result"
    },
    {
     "data": {
      "image/png": "[encoded data removed]",
      "text/plain": [
       "<Figure size 432x288 with 1 Axes>"
      ]
     },
     "metadata": {
      "needs_background": "light"
     },
     "output_type": "display_data"
    }
   ],
   "source": [
    "(pd.Series(xgb_model.feature_importances_, index=X.columns)\n",
    "   .nlargest(11)\n",
    "   .plot(kind='barh')) "
   ]
  },
  {
   "cell_type": "markdown",
   "id": "97cd2c0e",
   "metadata": {},
   "source": [
    "## Train score = 0.8, Test score = 0.2"
   ]
  },
  {
   "cell_type": "code",
   "execution_count": 47,
   "id": "b8b644d1",
   "metadata": {},
   "outputs": [],
   "source": [
    "train_X, test_X, train_y, test_y = train_test_split(X, y, test_size= 0.2, random_state= 42)"
   ]
  },
  {
   "cell_type": "code",
   "execution_count": 48,
   "id": "f2c626f9",
   "metadata": {},
   "outputs": [
    {
     "name": "stdout",
     "output_type": "stream",
     "text": [
      "[00:01:23] WARNING: /Users/runner/work/xgboost/xgboost/src/learner.cc:1115: Starting in XGBoost 1.3.0, the default evaluation metric used with the objective 'binary:logistic' was changed from 'error' to 'logloss'. Explicitly set eval_metric if you'd like to restore the old behavior.\n",
      "Accuracy: 92.20%\n"
     ]
    }
   ],
   "source": [
    "xgb_model = xgb.XGBClassifier(objective='binary:logistic',\n",
    "                              n_estimators=700,\n",
    "                              learning_rate=0.03,\n",
    "                              max_depth=16,   \n",
    "                              gamma=0.25,\n",
    "                              n_jobs= -1,\n",
    "                              random_state= 42,\n",
    "                              subsample=0.9,\n",
    "                              min_child_weight=1)\n",
    "xgb_model.fit(train_X, train_y)\n",
    "# make predictions for test data\n",
    "y_pred = xgb_model.predict(test_X)\n",
    "predictions = [round(value) for value in y_pred]\n",
    "# evaluate predictions\n",
    "accuracy = accuracy_score(test_y, predictions)\n",
    "print(\"Accuracy: %.2f%%\" % (accuracy * 100.0))"
   ]
  },
  {
   "cell_type": "markdown",
   "id": "93c1828f",
   "metadata": {},
   "source": [
    "#### Feature Importances"
   ]
  },
  {
   "cell_type": "code",
   "execution_count": 49,
   "id": "3766ee4a",
   "metadata": {},
   "outputs": [
    {
     "data": {
      "text/plain": [
       "<AxesSubplot:>"
      ]
     },
     "execution_count": 49,
     "metadata": {},
     "output_type": "execute_result"
    },
    {
     "data": {
      "image/png": "[encoded data removed]",
      "text/plain": [
       "<Figure size 432x288 with 1 Axes>"
      ]
     },
     "metadata": {
      "needs_background": "light"
     },
     "output_type": "display_data"
    }
   ],
   "source": [
    "(pd.Series(xgb_model.feature_importances_, index=X.columns)\n",
    "   .nlargest(11)\n",
    "   .plot(kind='barh')) "
   ]
  },
  {
   "cell_type": "markdown",
   "id": "f4a17074",
   "metadata": {},
   "source": [
    "As it can be seen from the barcharts above, using xgboost models with test_size of 0.2 and 0.4, we concluded that the top 2 explanatory variables that have the  most significant effect on the churn rate \n",
    "are 'credit card info save' and, 'customer service calls'."
   ]
  },
  {
   "cell_type": "markdown",
   "id": "e050ad68",
   "metadata": {},
   "source": [
    "# Python Skills"
   ]
  },
  {
   "cell_type": "code",
   "execution_count": 50,
   "id": "d7a24417",
   "metadata": {},
   "outputs": [],
   "source": [
    "xls = pd.ExcelFile('data2.xlsx')\n",
    "df1 = pd.read_excel(xls, 'Public_Schools')\n",
    "df2 = pd.read_excel(xls, 'School Type')\n",
    "df3 = pd.read_excel(xls, 'Police')\n",
    "df4 = pd.read_excel(xls, 'Company&Food Order')"
   ]
  },
  {
   "cell_type": "code",
   "execution_count": 51,
   "id": "ed9bbc88",
   "metadata": {},
   "outputs": [
    {
     "data": {
      "text/html": [
       "<div>\n",
       "<style scoped>\n",
       "    .dataframe tbody tr th:only-of-type {\n",
       "        vertical-align: middle;\n",
       "    }\n",
       "\n",
       "    .dataframe tbody tr th {\n",
       "        vertical-align: top;\n",
       "    }\n",
       "\n",
       "    .dataframe thead th {\n",
       "        text-align: right;\n",
       "    }\n",
       "</style>\n",
       "<table border=\"1\" class=\"dataframe\">\n",
       "  <thead>\n",
       "    <tr style=\"text-align: right;\">\n",
       "      <th></th>\n",
       "      <th>CITY</th>\n",
       "      <th>ZIPCODE</th>\n",
       "      <th>SCH_NAME</th>\n",
       "      <th>SCH_TYPE</th>\n",
       "    </tr>\n",
       "  </thead>\n",
       "  <tbody>\n",
       "    <tr>\n",
       "      <th>0</th>\n",
       "      <td>East Boston</td>\n",
       "      <td>2128</td>\n",
       "      <td>Guild Elementary</td>\n",
       "      <td>ES</td>\n",
       "    </tr>\n",
       "    <tr>\n",
       "      <th>1</th>\n",
       "      <td>East Boston</td>\n",
       "      <td>2128</td>\n",
       "      <td>Kennedy Patrick Elem</td>\n",
       "      <td>ES</td>\n",
       "    </tr>\n",
       "    <tr>\n",
       "      <th>2</th>\n",
       "      <td>East Boston</td>\n",
       "      <td>2128</td>\n",
       "      <td>Otis Elementary</td>\n",
       "      <td>ES</td>\n",
       "    </tr>\n",
       "    <tr>\n",
       "      <th>3</th>\n",
       "      <td>East Boston</td>\n",
       "      <td>2128</td>\n",
       "      <td>O'Donnell Elementary</td>\n",
       "      <td>ES</td>\n",
       "    </tr>\n",
       "    <tr>\n",
       "      <th>4</th>\n",
       "      <td>East Boston</td>\n",
       "      <td>2128</td>\n",
       "      <td>East Boston High</td>\n",
       "      <td>HS</td>\n",
       "    </tr>\n",
       "  </tbody>\n",
       "</table>\n",
       "</div>"
      ],
      "text/plain": [
       "          CITY  ZIPCODE              SCH_NAME SCH_TYPE\n",
       "0  East Boston     2128      Guild Elementary       ES\n",
       "1  East Boston     2128  Kennedy Patrick Elem       ES\n",
       "2  East Boston     2128       Otis Elementary       ES\n",
       "3  East Boston     2128  O'Donnell Elementary       ES\n",
       "4  East Boston     2128      East Boston High       HS"
      ]
     },
     "execution_count": 51,
     "metadata": {},
     "output_type": "execute_result"
    }
   ],
   "source": [
    "df1.head()"
   ]
  },
  {
   "cell_type": "code",
   "execution_count": 52,
   "id": "0f4f4ae8",
   "metadata": {},
   "outputs": [
    {
     "data": {
      "text/html": [
       "<div>\n",
       "<style scoped>\n",
       "    .dataframe tbody tr th:only-of-type {\n",
       "        vertical-align: middle;\n",
       "    }\n",
       "\n",
       "    .dataframe tbody tr th {\n",
       "        vertical-align: top;\n",
       "    }\n",
       "\n",
       "    .dataframe thead th {\n",
       "        text-align: right;\n",
       "    }\n",
       "</style>\n",
       "<table border=\"1\" class=\"dataframe\">\n",
       "  <thead>\n",
       "    <tr style=\"text-align: right;\">\n",
       "      <th></th>\n",
       "      <th>Type</th>\n",
       "      <th>Long_Name</th>\n",
       "    </tr>\n",
       "  </thead>\n",
       "  <tbody>\n",
       "    <tr>\n",
       "      <th>0</th>\n",
       "      <td>ES</td>\n",
       "      <td>Elementary</td>\n",
       "    </tr>\n",
       "    <tr>\n",
       "      <th>1</th>\n",
       "      <td>HS</td>\n",
       "      <td>High</td>\n",
       "    </tr>\n",
       "    <tr>\n",
       "      <th>2</th>\n",
       "      <td>K-8</td>\n",
       "      <td>Combined Elem/Mid</td>\n",
       "    </tr>\n",
       "    <tr>\n",
       "      <th>3</th>\n",
       "      <td>ELC</td>\n",
       "      <td>Early Learning</td>\n",
       "    </tr>\n",
       "    <tr>\n",
       "      <th>4</th>\n",
       "      <td>MS</td>\n",
       "      <td>Middle</td>\n",
       "    </tr>\n",
       "  </tbody>\n",
       "</table>\n",
       "</div>"
      ],
      "text/plain": [
       "  Type          Long_Name\n",
       "0   ES         Elementary\n",
       "1   HS               High\n",
       "2  K-8  Combined Elem/Mid\n",
       "3  ELC     Early Learning\n",
       "4   MS             Middle"
      ]
     },
     "execution_count": 52,
     "metadata": {},
     "output_type": "execute_result"
    }
   ],
   "source": [
    "df2.head()"
   ]
  },
  {
   "cell_type": "code",
   "execution_count": 53,
   "id": "c62b0492",
   "metadata": {},
   "outputs": [
    {
     "data": {
      "text/html": [
       "<div>\n",
       "<style scoped>\n",
       "    .dataframe tbody tr th:only-of-type {\n",
       "        vertical-align: middle;\n",
       "    }\n",
       "\n",
       "    .dataframe tbody tr th {\n",
       "        vertical-align: top;\n",
       "    }\n",
       "\n",
       "    .dataframe thead th {\n",
       "        text-align: right;\n",
       "    }\n",
       "</style>\n",
       "<table border=\"1\" class=\"dataframe\">\n",
       "  <thead>\n",
       "    <tr style=\"text-align: right;\">\n",
       "      <th></th>\n",
       "      <th>City</th>\n",
       "      <th>Officers per 10k population</th>\n",
       "      <th>officers</th>\n",
       "      <th>Employees per 10K population</th>\n",
       "      <th>employees</th>\n",
       "      <th>Population</th>\n",
       "      <th>Unnamed: 6</th>\n",
       "      <th>Unnamed: 7</th>\n",
       "      <th>Unnamed: 8</th>\n",
       "    </tr>\n",
       "  </thead>\n",
       "  <tbody>\n",
       "    <tr>\n",
       "      <th>0</th>\n",
       "      <td>Agawam, Massachusetts</td>\n",
       "      <td>16.3</td>\n",
       "      <td>47</td>\n",
       "      <td>19.8</td>\n",
       "      <td>57</td>\n",
       "      <td>163000</td>\n",
       "      <td>NaN</td>\n",
       "      <td>1.0</td>\n",
       "      <td>Uninformed Officers</td>\n",
       "    </tr>\n",
       "    <tr>\n",
       "      <th>1</th>\n",
       "      <td>Andover, Massachusetts</td>\n",
       "      <td>14.3</td>\n",
       "      <td>51</td>\n",
       "      <td>20.0</td>\n",
       "      <td>71</td>\n",
       "      <td>143000</td>\n",
       "      <td>NaN</td>\n",
       "      <td>2.0</td>\n",
       "      <td>Detectives</td>\n",
       "    </tr>\n",
       "    <tr>\n",
       "      <th>2</th>\n",
       "      <td>Arlington, Massachusetts</td>\n",
       "      <td>14.7</td>\n",
       "      <td>66</td>\n",
       "      <td>18.7</td>\n",
       "      <td>84</td>\n",
       "      <td>147000</td>\n",
       "      <td>NaN</td>\n",
       "      <td>3.0</td>\n",
       "      <td>State Police</td>\n",
       "    </tr>\n",
       "    <tr>\n",
       "      <th>3</th>\n",
       "      <td>Attleboro, Massachusetts</td>\n",
       "      <td>17.9</td>\n",
       "      <td>79</td>\n",
       "      <td>20.6</td>\n",
       "      <td>91</td>\n",
       "      <td>179000</td>\n",
       "      <td>NaN</td>\n",
       "      <td>4.0</td>\n",
       "      <td>Transit and Railroad Officers</td>\n",
       "    </tr>\n",
       "    <tr>\n",
       "      <th>4</th>\n",
       "      <td>Barnstable, Massachusetts</td>\n",
       "      <td>25.7</td>\n",
       "      <td>113</td>\n",
       "      <td>29.1</td>\n",
       "      <td>128</td>\n",
       "      <td>257000</td>\n",
       "      <td>NaN</td>\n",
       "      <td>5.0</td>\n",
       "      <td>Sheriffs</td>\n",
       "    </tr>\n",
       "  </tbody>\n",
       "</table>\n",
       "</div>"
      ],
      "text/plain": [
       "                        City  Officers per 10k population  officers  \\\n",
       "0      Agawam, Massachusetts                         16.3        47   \n",
       "1     Andover, Massachusetts                         14.3        51   \n",
       "2   Arlington, Massachusetts                         14.7        66   \n",
       "3   Attleboro, Massachusetts                         17.9        79   \n",
       "4  Barnstable, Massachusetts                         25.7       113   \n",
       "\n",
       "   Employees per 10K population  employees  Population  Unnamed: 6  \\\n",
       "0                          19.8         57      163000         NaN   \n",
       "1                          20.0         71      143000         NaN   \n",
       "2                          18.7         84      147000         NaN   \n",
       "3                          20.6         91      179000         NaN   \n",
       "4                          29.1        128      257000         NaN   \n",
       "\n",
       "   Unnamed: 7                     Unnamed: 8  \n",
       "0         1.0            Uninformed Officers  \n",
       "1         2.0                     Detectives  \n",
       "2         3.0                   State Police  \n",
       "3         4.0  Transit and Railroad Officers  \n",
       "4         5.0                       Sheriffs  "
      ]
     },
     "execution_count": 53,
     "metadata": {},
     "output_type": "execute_result"
    }
   ],
   "source": [
    "df3.head()"
   ]
  },
  {
   "cell_type": "code",
   "execution_count": 54,
   "id": "0b3084bd",
   "metadata": {},
   "outputs": [
    {
     "data": {
      "text/html": [
       "<div>\n",
       "<style scoped>\n",
       "    .dataframe tbody tr th:only-of-type {\n",
       "        vertical-align: middle;\n",
       "    }\n",
       "\n",
       "    .dataframe tbody tr th {\n",
       "        vertical-align: top;\n",
       "    }\n",
       "\n",
       "    .dataframe thead th {\n",
       "        text-align: right;\n",
       "    }\n",
       "</style>\n",
       "<table border=\"1\" class=\"dataframe\">\n",
       "  <thead>\n",
       "    <tr style=\"text-align: right;\">\n",
       "      <th></th>\n",
       "      <th>Date</th>\n",
       "      <th>Name</th>\n",
       "      <th>Company Name</th>\n",
       "      <th>City</th>\n",
       "      <th>Country</th>\n",
       "      <th>Currency</th>\n",
       "      <th>Food Type</th>\n",
       "    </tr>\n",
       "  </thead>\n",
       "  <tbody>\n",
       "    <tr>\n",
       "      <th>0</th>\n",
       "      <td>2019-05-24</td>\n",
       "      <td>Rebecca</td>\n",
       "      <td>Interdum PC</td>\n",
       "      <td>L'Hospitalet de Llobregat</td>\n",
       "      <td>Italy</td>\n",
       "      <td>54.46</td>\n",
       "      <td>pasta</td>\n",
       "    </tr>\n",
       "    <tr>\n",
       "      <th>1</th>\n",
       "      <td>2019-04-29</td>\n",
       "      <td>Octavia</td>\n",
       "      <td>Sit Amet Institute</td>\n",
       "      <td>Dutse</td>\n",
       "      <td>Liberia</td>\n",
       "      <td>29.91</td>\n",
       "      <td>seafood</td>\n",
       "    </tr>\n",
       "    <tr>\n",
       "      <th>2</th>\n",
       "      <td>2019-08-13</td>\n",
       "      <td>Gwendolyn</td>\n",
       "      <td>Diam LLP</td>\n",
       "      <td>Cork</td>\n",
       "      <td>Libya</td>\n",
       "      <td>19.45</td>\n",
       "      <td>salads</td>\n",
       "    </tr>\n",
       "    <tr>\n",
       "      <th>3</th>\n",
       "      <td>2018-10-06</td>\n",
       "      <td>Fallon</td>\n",
       "      <td>Blandit Nam Nulla Corp.</td>\n",
       "      <td>Hamburg</td>\n",
       "      <td>Palestine, State of</td>\n",
       "      <td>99.94</td>\n",
       "      <td>stews</td>\n",
       "    </tr>\n",
       "    <tr>\n",
       "      <th>4</th>\n",
       "      <td>2019-04-20</td>\n",
       "      <td>Harper</td>\n",
       "      <td>Eu Eros Nam Corporation</td>\n",
       "      <td>Kawawachikamach</td>\n",
       "      <td>Peru</td>\n",
       "      <td>99.31</td>\n",
       "      <td>cereals</td>\n",
       "    </tr>\n",
       "  </tbody>\n",
       "</table>\n",
       "</div>"
      ],
      "text/plain": [
       "        Date       Name             Company Name                       City  \\\n",
       "0 2019-05-24    Rebecca              Interdum PC  L'Hospitalet de Llobregat   \n",
       "1 2019-04-29    Octavia       Sit Amet Institute                      Dutse   \n",
       "2 2019-08-13  Gwendolyn                 Diam LLP                       Cork   \n",
       "3 2018-10-06     Fallon  Blandit Nam Nulla Corp.                    Hamburg   \n",
       "4 2019-04-20     Harper  Eu Eros Nam Corporation            Kawawachikamach   \n",
       "\n",
       "               Country  Currency Food Type  \n",
       "0                Italy     54.46     pasta  \n",
       "1              Liberia     29.91   seafood  \n",
       "2                Libya     19.45    salads  \n",
       "3  Palestine, State of     99.94     stews  \n",
       "4                 Peru     99.31   cereals  "
      ]
     },
     "execution_count": 54,
     "metadata": {},
     "output_type": "execute_result"
    }
   ],
   "source": [
    "df4.head()"
   ]
  },
  {
   "cell_type": "markdown",
   "id": "7f43eef9",
   "metadata": {},
   "source": [
    "##### Q1:Creating a sublist called 'city_list' using Public_School dataset"
   ]
  },
  {
   "cell_type": "code",
   "execution_count": 55,
   "id": "66a3af2d",
   "metadata": {},
   "outputs": [
    {
     "name": "stdout",
     "output_type": "stream",
     "text": [
      "['East Boston' 'Charlestown' 'Boston' 'Roxbury' 'Dorchester'\n",
      " 'South Boston' 'West Roxbury' 'Mattapan' 'Roslindale' 'Jamaica Plain'\n",
      " 'Hyde Park' 'Brighton' 'Allston']\n"
     ]
    }
   ],
   "source": [
    "city_list = df1['CITY'].unique()\n",
    "print(city_list)"
   ]
  },
  {
   "cell_type": "code",
   "execution_count": 56,
   "id": "e77b6d27",
   "metadata": {},
   "outputs": [
    {
     "data": {
      "text/plain": [
       "CITY        False\n",
       "ZIPCODE     False\n",
       "SCH_NAME    False\n",
       "SCH_TYPE    False\n",
       "dtype: bool"
      ]
     },
     "execution_count": 56,
     "metadata": {},
     "output_type": "execute_result"
    }
   ],
   "source": [
    "df1.isna().any()"
   ]
  },
  {
   "cell_type": "markdown",
   "id": "cf580a6c",
   "metadata": {},
   "source": [
    "#### Q2:number of schools in each city"
   ]
  },
  {
   "cell_type": "code",
   "execution_count": 57,
   "id": "6589567d",
   "metadata": {},
   "outputs": [
    {
     "data": {
      "text/plain": [
       "Dorchester       27\n",
       "Roxbury          19\n",
       "Boston           15\n",
       "Jamaica Plain    12\n",
       "East Boston      11\n",
       "West Roxbury      7\n",
       "Roslindale        7\n",
       "Hyde Park         7\n",
       "Brighton          7\n",
       "Mattapan          6\n",
       "South Boston      6\n",
       "Charlestown       4\n",
       "Allston           3\n",
       "Name: CITY, dtype: int64"
      ]
     },
     "execution_count": 57,
     "metadata": {},
     "output_type": "execute_result"
    }
   ],
   "source": [
    "schools_per_city = df1['CITY'].value_counts()\n",
    "schools_per_city"
   ]
  },
  {
   "cell_type": "code",
   "execution_count": 58,
   "id": "154f4ea3",
   "metadata": {},
   "outputs": [
    {
     "data": {
      "text/plain": [
       "<AxesSubplot:>"
      ]
     },
     "execution_count": 58,
     "metadata": {},
     "output_type": "execute_result"
    },
    {
     "data": {
      "image/png": "[encoded data removed]",
      "text/plain": [
       "<Figure size 1440x504 with 1 Axes>"
      ]
     },
     "metadata": {},
     "output_type": "display_data"
    }
   ],
   "source": [
    "sns.set()\n",
    "plt.rcParams['figure.figsize'] = [20, 7]\n",
    "sns.barplot(x=schools_per_city.index, y=schools_per_city.to_numpy())"
   ]
  },
  {
   "cell_type": "markdown",
   "id": "c76ab701",
   "metadata": {},
   "source": [
    "##### Q3:The post code of Hennigan K-8"
   ]
  },
  {
   "cell_type": "code",
   "execution_count": 59,
   "id": "9539563a",
   "metadata": {},
   "outputs": [
    {
     "data": {
      "text/html": [
       "<div>\n",
       "<style scoped>\n",
       "    .dataframe tbody tr th:only-of-type {\n",
       "        vertical-align: middle;\n",
       "    }\n",
       "\n",
       "    .dataframe tbody tr th {\n",
       "        vertical-align: top;\n",
       "    }\n",
       "\n",
       "    .dataframe thead th {\n",
       "        text-align: right;\n",
       "    }\n",
       "</style>\n",
       "<table border=\"1\" class=\"dataframe\">\n",
       "  <thead>\n",
       "    <tr style=\"text-align: right;\">\n",
       "      <th></th>\n",
       "      <th>CITY</th>\n",
       "      <th>ZIPCODE</th>\n",
       "      <th>SCH_NAME</th>\n",
       "      <th>SCH_TYPE</th>\n",
       "    </tr>\n",
       "  </thead>\n",
       "  <tbody>\n",
       "    <tr>\n",
       "      <th>117</th>\n",
       "      <td>Jamaica Plain</td>\n",
       "      <td>2130</td>\n",
       "      <td>Hennigan K-8</td>\n",
       "      <td>K-8</td>\n",
       "    </tr>\n",
       "  </tbody>\n",
       "</table>\n",
       "</div>"
      ],
      "text/plain": [
       "              CITY  ZIPCODE      SCH_NAME SCH_TYPE\n",
       "117  Jamaica Plain     2130  Hennigan K-8      K-8"
      ]
     },
     "execution_count": 59,
     "metadata": {},
     "output_type": "execute_result"
    }
   ],
   "source": [
    "Hennigan = df1[df1['SCH_NAME'].str.contains(\"Hennigan K-8\")]\n",
    "Hennigan"
   ]
  },
  {
   "cell_type": "markdown",
   "id": "972f7946",
   "metadata": {},
   "source": [
    "#### Q4-Q5: Group by postcode and counting the zipcodes in Boston city"
   ]
  },
  {
   "cell_type": "code",
   "execution_count": 60,
   "id": "5d88e376",
   "metadata": {},
   "outputs": [
    {
     "data": {
      "text/html": [
       "<div>\n",
       "<style scoped>\n",
       "    .dataframe tbody tr th:only-of-type {\n",
       "        vertical-align: middle;\n",
       "    }\n",
       "\n",
       "    .dataframe tbody tr th {\n",
       "        vertical-align: top;\n",
       "    }\n",
       "\n",
       "    .dataframe thead th {\n",
       "        text-align: right;\n",
       "    }\n",
       "</style>\n",
       "<table border=\"1\" class=\"dataframe\">\n",
       "  <thead>\n",
       "    <tr style=\"text-align: right;\">\n",
       "      <th></th>\n",
       "      <th>ZIPCODE</th>\n",
       "    </tr>\n",
       "    <tr>\n",
       "      <th>CITY</th>\n",
       "      <th></th>\n",
       "    </tr>\n",
       "  </thead>\n",
       "  <tbody>\n",
       "    <tr>\n",
       "      <th>Allston</th>\n",
       "      <td>3</td>\n",
       "    </tr>\n",
       "    <tr>\n",
       "      <th>Boston</th>\n",
       "      <td>15</td>\n",
       "    </tr>\n",
       "    <tr>\n",
       "      <th>Brighton</th>\n",
       "      <td>7</td>\n",
       "    </tr>\n",
       "    <tr>\n",
       "      <th>Charlestown</th>\n",
       "      <td>4</td>\n",
       "    </tr>\n",
       "    <tr>\n",
       "      <th>Dorchester</th>\n",
       "      <td>27</td>\n",
       "    </tr>\n",
       "    <tr>\n",
       "      <th>East Boston</th>\n",
       "      <td>11</td>\n",
       "    </tr>\n",
       "    <tr>\n",
       "      <th>Hyde Park</th>\n",
       "      <td>7</td>\n",
       "    </tr>\n",
       "    <tr>\n",
       "      <th>Jamaica Plain</th>\n",
       "      <td>12</td>\n",
       "    </tr>\n",
       "    <tr>\n",
       "      <th>Mattapan</th>\n",
       "      <td>6</td>\n",
       "    </tr>\n",
       "    <tr>\n",
       "      <th>Roslindale</th>\n",
       "      <td>7</td>\n",
       "    </tr>\n",
       "    <tr>\n",
       "      <th>Roxbury</th>\n",
       "      <td>19</td>\n",
       "    </tr>\n",
       "    <tr>\n",
       "      <th>South Boston</th>\n",
       "      <td>6</td>\n",
       "    </tr>\n",
       "    <tr>\n",
       "      <th>West Roxbury</th>\n",
       "      <td>7</td>\n",
       "    </tr>\n",
       "  </tbody>\n",
       "</table>\n",
       "</div>"
      ],
      "text/plain": [
       "               ZIPCODE\n",
       "CITY                  \n",
       "Allston              3\n",
       "Boston              15\n",
       "Brighton             7\n",
       "Charlestown          4\n",
       "Dorchester          27\n",
       "East Boston         11\n",
       "Hyde Park            7\n",
       "Jamaica Plain       12\n",
       "Mattapan             6\n",
       "Roslindale           7\n",
       "Roxbury             19\n",
       "South Boston         6\n",
       "West Roxbury         7"
      ]
     },
     "execution_count": 60,
     "metadata": {},
     "output_type": "execute_result"
    }
   ],
   "source": [
    "zipcodes = df1.groupby('CITY')['ZIPCODE'].count()\n",
    "df_zipcodes = pd.DataFrame(zipcodes)\n",
    "df_zipcodes"
   ]
  },
  {
   "cell_type": "markdown",
   "id": "66522184",
   "metadata": {},
   "source": [
    "#### Q6: Fınding out why the dataframe consists of 4-digit zipcodes instead of 5-digit ones:\n",
    "Answer: It is accurate that the zipcodes in U.S. are 5-digit numbers and this is also valid when we look at the dataset on Kaggle.\n",
    "However, when the dataframe is downloaded as an excel file, the excel drops the '0' at the first digit of the zipcodes. \n",
    "That is why we have 4 digit numbers in our dataset.\n",
    "\n"
   ]
  },
  {
   "cell_type": "markdown",
   "id": "c6ee4d21",
   "metadata": {},
   "source": [
    "##### Correction for 4 digit values on 'ZIPCODE' column:"
   ]
  },
  {
   "cell_type": "code",
   "execution_count": 61,
   "id": "e5e7cea7",
   "metadata": {},
   "outputs": [
    {
     "data": {
      "text/html": [
       "<div>\n",
       "<style scoped>\n",
       "    .dataframe tbody tr th:only-of-type {\n",
       "        vertical-align: middle;\n",
       "    }\n",
       "\n",
       "    .dataframe tbody tr th {\n",
       "        vertical-align: top;\n",
       "    }\n",
       "\n",
       "    .dataframe thead th {\n",
       "        text-align: right;\n",
       "    }\n",
       "</style>\n",
       "<table border=\"1\" class=\"dataframe\">\n",
       "  <thead>\n",
       "    <tr style=\"text-align: right;\">\n",
       "      <th></th>\n",
       "      <th>CITY</th>\n",
       "      <th>ZIPCODE</th>\n",
       "      <th>SCH_NAME</th>\n",
       "      <th>SCH_TYPE</th>\n",
       "    </tr>\n",
       "  </thead>\n",
       "  <tbody>\n",
       "    <tr>\n",
       "      <th>0</th>\n",
       "      <td>East Boston</td>\n",
       "      <td>02128</td>\n",
       "      <td>Guild Elementary</td>\n",
       "      <td>ES</td>\n",
       "    </tr>\n",
       "    <tr>\n",
       "      <th>1</th>\n",
       "      <td>East Boston</td>\n",
       "      <td>02128</td>\n",
       "      <td>Kennedy Patrick Elem</td>\n",
       "      <td>ES</td>\n",
       "    </tr>\n",
       "    <tr>\n",
       "      <th>2</th>\n",
       "      <td>East Boston</td>\n",
       "      <td>02128</td>\n",
       "      <td>Otis Elementary</td>\n",
       "      <td>ES</td>\n",
       "    </tr>\n",
       "    <tr>\n",
       "      <th>3</th>\n",
       "      <td>East Boston</td>\n",
       "      <td>02128</td>\n",
       "      <td>O'Donnell Elementary</td>\n",
       "      <td>ES</td>\n",
       "    </tr>\n",
       "    <tr>\n",
       "      <th>4</th>\n",
       "      <td>East Boston</td>\n",
       "      <td>02128</td>\n",
       "      <td>East Boston High</td>\n",
       "      <td>HS</td>\n",
       "    </tr>\n",
       "    <tr>\n",
       "      <th>...</th>\n",
       "      <td>...</td>\n",
       "      <td>...</td>\n",
       "      <td>...</td>\n",
       "      <td>...</td>\n",
       "    </tr>\n",
       "    <tr>\n",
       "      <th>126</th>\n",
       "      <td>Roxbury</td>\n",
       "      <td>02119</td>\n",
       "      <td>Higginson Elementary (K1-2)</td>\n",
       "      <td>ES</td>\n",
       "    </tr>\n",
       "    <tr>\n",
       "      <th>127</th>\n",
       "      <td>East Boston</td>\n",
       "      <td>02128</td>\n",
       "      <td>Alighieri Montessori</td>\n",
       "      <td>ES</td>\n",
       "    </tr>\n",
       "    <tr>\n",
       "      <th>128</th>\n",
       "      <td>Boston</td>\n",
       "      <td>02116</td>\n",
       "      <td>Boston Adult Tech Acad</td>\n",
       "      <td>Special</td>\n",
       "    </tr>\n",
       "    <tr>\n",
       "      <th>129</th>\n",
       "      <td>Brighton</td>\n",
       "      <td>02135</td>\n",
       "      <td>Boston Green Academy</td>\n",
       "      <td>2006-07-12 00:00:00</td>\n",
       "    </tr>\n",
       "    <tr>\n",
       "      <th>130</th>\n",
       "      <td>Roxbury</td>\n",
       "      <td>02119</td>\n",
       "      <td>Dearborn Academy</td>\n",
       "      <td>2006-07-12 00:00:00</td>\n",
       "    </tr>\n",
       "  </tbody>\n",
       "</table>\n",
       "<p>131 rows × 4 columns</p>\n",
       "</div>"
      ],
      "text/plain": [
       "            CITY ZIPCODE                     SCH_NAME             SCH_TYPE\n",
       "0    East Boston   02128             Guild Elementary                   ES\n",
       "1    East Boston   02128         Kennedy Patrick Elem                   ES\n",
       "2    East Boston   02128              Otis Elementary                   ES\n",
       "3    East Boston   02128         O'Donnell Elementary                   ES\n",
       "4    East Boston   02128             East Boston High                   HS\n",
       "..           ...     ...                          ...                  ...\n",
       "126      Roxbury   02119  Higginson Elementary (K1-2)                   ES\n",
       "127  East Boston   02128         Alighieri Montessori                   ES\n",
       "128       Boston   02116       Boston Adult Tech Acad              Special\n",
       "129     Brighton   02135         Boston Green Academy  2006-07-12 00:00:00\n",
       "130      Roxbury   02119             Dearborn Academy  2006-07-12 00:00:00\n",
       "\n",
       "[131 rows x 4 columns]"
      ]
     },
     "execution_count": 61,
     "metadata": {},
     "output_type": "execute_result"
    }
   ],
   "source": [
    "df1['ZIPCODE'] = df1['ZIPCODE'].apply(lambda x: '{0:0>5}'.format(x))\n",
    "df1"
   ]
  },
  {
   "cell_type": "markdown",
   "id": "fe02088c",
   "metadata": {},
   "source": [
    "##### Q7:Why do we see a date format at the last row of 'SCH_TYPE' in df1 ?\n",
    "\n",
    "Answer: When we look at the original dataframe on Kaggle, we see '6/7-12' value at the and of 'SCH_TYPE' of the dataset.\n",
    "The problem occurs when we import the dataset as in excel format. Since excel uses an algorithm that aims to\n",
    "make it easier to enter dates into excel, it automaticallt converts the value '6/7-12' to a date format of '7/12/2006'.\n",
    "It seems there is not a valid solution for this problem however using some alternative ways while importing the dataset,\n",
    "this problem might be prevented."
   ]
  },
  {
   "cell_type": "markdown",
   "id": "46928295",
   "metadata": {},
   "source": [
    "##### df3 explaratory analysis before moving into correlation analysis"
   ]
  },
  {
   "cell_type": "code",
   "execution_count": 62,
   "id": "0d95fb8d",
   "metadata": {},
   "outputs": [
    {
     "data": {
      "text/plain": [
       "(75, 9)"
      ]
     },
     "execution_count": 62,
     "metadata": {},
     "output_type": "execute_result"
    }
   ],
   "source": [
    "df3.shape"
   ]
  },
  {
   "cell_type": "code",
   "execution_count": 63,
   "id": "b235a6ed",
   "metadata": {},
   "outputs": [
    {
     "name": "stdout",
     "output_type": "stream",
     "text": [
      "<class 'pandas.core.frame.DataFrame'>\n",
      "RangeIndex: 75 entries, 0 to 74\n",
      "Data columns (total 9 columns):\n",
      " #   Column                        Non-Null Count  Dtype  \n",
      "---  ------                        --------------  -----  \n",
      " 0   City                          75 non-null     object \n",
      " 1   Officers per 10k population   75 non-null     float64\n",
      " 2   officers                      75 non-null     int64  \n",
      " 3   Employees per 10K population  75 non-null     float64\n",
      " 4   employees                     75 non-null     int64  \n",
      " 5   Population                    75 non-null     int64  \n",
      " 6   Unnamed: 6                    0 non-null      float64\n",
      " 7   Unnamed: 7                    6 non-null      float64\n",
      " 8   Unnamed: 8                    6 non-null      object \n",
      "dtypes: float64(4), int64(3), object(2)\n",
      "memory usage: 5.4+ KB\n"
     ]
    }
   ],
   "source": [
    "df3.info()"
   ]
  },
  {
   "cell_type": "code",
   "execution_count": 64,
   "id": "7ab86761",
   "metadata": {},
   "outputs": [
    {
     "data": {
      "text/html": [
       "<div>\n",
       "<style scoped>\n",
       "    .dataframe tbody tr th:only-of-type {\n",
       "        vertical-align: middle;\n",
       "    }\n",
       "\n",
       "    .dataframe tbody tr th {\n",
       "        vertical-align: top;\n",
       "    }\n",
       "\n",
       "    .dataframe thead th {\n",
       "        text-align: right;\n",
       "    }\n",
       "</style>\n",
       "<table border=\"1\" class=\"dataframe\">\n",
       "  <thead>\n",
       "    <tr style=\"text-align: right;\">\n",
       "      <th></th>\n",
       "      <th>Officers per 10k population</th>\n",
       "      <th>officers</th>\n",
       "      <th>Employees per 10K population</th>\n",
       "      <th>employees</th>\n",
       "      <th>Population</th>\n",
       "      <th>Unnamed: 6</th>\n",
       "      <th>Unnamed: 7</th>\n",
       "    </tr>\n",
       "  </thead>\n",
       "  <tbody>\n",
       "    <tr>\n",
       "      <th>count</th>\n",
       "      <td>75.000000</td>\n",
       "      <td>75.000000</td>\n",
       "      <td>75.000000</td>\n",
       "      <td>75.000000</td>\n",
       "      <td>75.000000</td>\n",
       "      <td>0.0</td>\n",
       "      <td>6.000000</td>\n",
       "    </tr>\n",
       "    <tr>\n",
       "      <th>mean</th>\n",
       "      <td>19.098667</td>\n",
       "      <td>126.213333</td>\n",
       "      <td>22.258667</td>\n",
       "      <td>149.866667</td>\n",
       "      <td>190986.666667</td>\n",
       "      <td>NaN</td>\n",
       "      <td>3.500000</td>\n",
       "    </tr>\n",
       "    <tr>\n",
       "      <th>std</th>\n",
       "      <td>4.265971</td>\n",
       "      <td>245.990787</td>\n",
       "      <td>5.028355</td>\n",
       "      <td>309.487691</td>\n",
       "      <td>42659.713679</td>\n",
       "      <td>NaN</td>\n",
       "      <td>1.870829</td>\n",
       "    </tr>\n",
       "    <tr>\n",
       "      <th>min</th>\n",
       "      <td>12.200000</td>\n",
       "      <td>39.000000</td>\n",
       "      <td>14.200000</td>\n",
       "      <td>45.000000</td>\n",
       "      <td>122000.000000</td>\n",
       "      <td>NaN</td>\n",
       "      <td>1.000000</td>\n",
       "    </tr>\n",
       "    <tr>\n",
       "      <th>25%</th>\n",
       "      <td>16.050000</td>\n",
       "      <td>51.500000</td>\n",
       "      <td>18.700000</td>\n",
       "      <td>59.500000</td>\n",
       "      <td>160500.000000</td>\n",
       "      <td>NaN</td>\n",
       "      <td>2.250000</td>\n",
       "    </tr>\n",
       "    <tr>\n",
       "      <th>50%</th>\n",
       "      <td>18.200000</td>\n",
       "      <td>75.000000</td>\n",
       "      <td>21.100000</td>\n",
       "      <td>88.000000</td>\n",
       "      <td>182000.000000</td>\n",
       "      <td>NaN</td>\n",
       "      <td>3.500000</td>\n",
       "    </tr>\n",
       "    <tr>\n",
       "      <th>75%</th>\n",
       "      <td>21.750000</td>\n",
       "      <td>116.500000</td>\n",
       "      <td>24.550000</td>\n",
       "      <td>131.000000</td>\n",
       "      <td>217500.000000</td>\n",
       "      <td>NaN</td>\n",
       "      <td>4.750000</td>\n",
       "    </tr>\n",
       "    <tr>\n",
       "      <th>max</th>\n",
       "      <td>31.500000</td>\n",
       "      <td>2125.000000</td>\n",
       "      <td>39.700000</td>\n",
       "      <td>2678.000000</td>\n",
       "      <td>315000.000000</td>\n",
       "      <td>NaN</td>\n",
       "      <td>6.000000</td>\n",
       "    </tr>\n",
       "  </tbody>\n",
       "</table>\n",
       "</div>"
      ],
      "text/plain": [
       "       Officers per 10k population     officers  Employees per 10K population  \\\n",
       "count                    75.000000    75.000000                     75.000000   \n",
       "mean                     19.098667   126.213333                     22.258667   \n",
       "std                       4.265971   245.990787                      5.028355   \n",
       "min                      12.200000    39.000000                     14.200000   \n",
       "25%                      16.050000    51.500000                     18.700000   \n",
       "50%                      18.200000    75.000000                     21.100000   \n",
       "75%                      21.750000   116.500000                     24.550000   \n",
       "max                      31.500000  2125.000000                     39.700000   \n",
       "\n",
       "         employees     Population  Unnamed: 6  Unnamed: 7  \n",
       "count    75.000000      75.000000         0.0    6.000000  \n",
       "mean    149.866667  190986.666667         NaN    3.500000  \n",
       "std     309.487691   42659.713679         NaN    1.870829  \n",
       "min      45.000000  122000.000000         NaN    1.000000  \n",
       "25%      59.500000  160500.000000         NaN    2.250000  \n",
       "50%      88.000000  182000.000000         NaN    3.500000  \n",
       "75%     131.000000  217500.000000         NaN    4.750000  \n",
       "max    2678.000000  315000.000000         NaN    6.000000  "
      ]
     },
     "execution_count": 64,
     "metadata": {},
     "output_type": "execute_result"
    }
   ],
   "source": [
    "df3.describe()"
   ]
  },
  {
   "cell_type": "code",
   "execution_count": 65,
   "id": "934c7632",
   "metadata": {},
   "outputs": [
    {
     "data": {
      "text/plain": [
       "City                            False\n",
       "Officers per 10k population     False\n",
       "officers                        False\n",
       "Employees per 10K population    False\n",
       "employees                       False\n",
       "Population                      False\n",
       "Unnamed: 6                       True\n",
       "Unnamed: 7                       True\n",
       "Unnamed: 8                       True\n",
       "dtype: bool"
      ]
     },
     "execution_count": 65,
     "metadata": {},
     "output_type": "execute_result"
    }
   ],
   "source": [
    "df3.isna().any()"
   ]
  },
  {
   "cell_type": "markdown",
   "id": "cb33cfe3",
   "metadata": {},
   "source": [
    "#### Dropping problematic columns that have no name"
   ]
  },
  {
   "cell_type": "code",
   "execution_count": 66,
   "id": "ff53fb79",
   "metadata": {},
   "outputs": [
    {
     "data": {
      "text/html": [
       "<div>\n",
       "<style scoped>\n",
       "    .dataframe tbody tr th:only-of-type {\n",
       "        vertical-align: middle;\n",
       "    }\n",
       "\n",
       "    .dataframe tbody tr th {\n",
       "        vertical-align: top;\n",
       "    }\n",
       "\n",
       "    .dataframe thead th {\n",
       "        text-align: right;\n",
       "    }\n",
       "</style>\n",
       "<table border=\"1\" class=\"dataframe\">\n",
       "  <thead>\n",
       "    <tr style=\"text-align: right;\">\n",
       "      <th></th>\n",
       "      <th>City</th>\n",
       "      <th>Officers per 10k population</th>\n",
       "      <th>officers</th>\n",
       "      <th>Employees per 10K population</th>\n",
       "      <th>employees</th>\n",
       "      <th>Population</th>\n",
       "    </tr>\n",
       "  </thead>\n",
       "  <tbody>\n",
       "    <tr>\n",
       "      <th>0</th>\n",
       "      <td>Agawam, Massachusetts</td>\n",
       "      <td>16.3</td>\n",
       "      <td>47</td>\n",
       "      <td>19.8</td>\n",
       "      <td>57</td>\n",
       "      <td>163000</td>\n",
       "    </tr>\n",
       "    <tr>\n",
       "      <th>1</th>\n",
       "      <td>Andover, Massachusetts</td>\n",
       "      <td>14.3</td>\n",
       "      <td>51</td>\n",
       "      <td>20.0</td>\n",
       "      <td>71</td>\n",
       "      <td>143000</td>\n",
       "    </tr>\n",
       "    <tr>\n",
       "      <th>2</th>\n",
       "      <td>Arlington, Massachusetts</td>\n",
       "      <td>14.7</td>\n",
       "      <td>66</td>\n",
       "      <td>18.7</td>\n",
       "      <td>84</td>\n",
       "      <td>147000</td>\n",
       "    </tr>\n",
       "    <tr>\n",
       "      <th>3</th>\n",
       "      <td>Attleboro, Massachusetts</td>\n",
       "      <td>17.9</td>\n",
       "      <td>79</td>\n",
       "      <td>20.6</td>\n",
       "      <td>91</td>\n",
       "      <td>179000</td>\n",
       "    </tr>\n",
       "    <tr>\n",
       "      <th>4</th>\n",
       "      <td>Barnstable, Massachusetts</td>\n",
       "      <td>25.7</td>\n",
       "      <td>113</td>\n",
       "      <td>29.1</td>\n",
       "      <td>128</td>\n",
       "      <td>257000</td>\n",
       "    </tr>\n",
       "  </tbody>\n",
       "</table>\n",
       "</div>"
      ],
      "text/plain": [
       "                        City  Officers per 10k population  officers  \\\n",
       "0      Agawam, Massachusetts                         16.3        47   \n",
       "1     Andover, Massachusetts                         14.3        51   \n",
       "2   Arlington, Massachusetts                         14.7        66   \n",
       "3   Attleboro, Massachusetts                         17.9        79   \n",
       "4  Barnstable, Massachusetts                         25.7       113   \n",
       "\n",
       "   Employees per 10K population  employees  Population  \n",
       "0                          19.8         57      163000  \n",
       "1                          20.0         71      143000  \n",
       "2                          18.7         84      147000  \n",
       "3                          20.6         91      179000  \n",
       "4                          29.1        128      257000  "
      ]
     },
     "execution_count": 66,
     "metadata": {},
     "output_type": "execute_result"
    }
   ],
   "source": [
    "df3 = df3.drop(columns = ['Unnamed: 6','Unnamed: 7','Unnamed: 8'])\n",
    "df3.head()"
   ]
  },
  {
   "cell_type": "code",
   "execution_count": 67,
   "id": "120216c3",
   "metadata": {},
   "outputs": [
    {
     "data": {
      "text/plain": [
       "City                             object\n",
       "Officers per 10k population     float64\n",
       "officers                          int64\n",
       "Employees per 10K population    float64\n",
       "employees                         int64\n",
       "Population                        int64\n",
       "dtype: object"
      ]
     },
     "execution_count": 67,
     "metadata": {},
     "output_type": "execute_result"
    }
   ],
   "source": [
    "df3.dtypes"
   ]
  },
  {
   "cell_type": "markdown",
   "id": "25f91a56",
   "metadata": {},
   "source": [
    "#### Q8: Correlation Analysis for Police dataset"
   ]
  },
  {
   "cell_type": "code",
   "execution_count": 68,
   "id": "1bdc0739",
   "metadata": {},
   "outputs": [
    {
     "data": {
      "text/html": [
       "<div>\n",
       "<style scoped>\n",
       "    .dataframe tbody tr th:only-of-type {\n",
       "        vertical-align: middle;\n",
       "    }\n",
       "\n",
       "    .dataframe tbody tr th {\n",
       "        vertical-align: top;\n",
       "    }\n",
       "\n",
       "    .dataframe thead th {\n",
       "        text-align: right;\n",
       "    }\n",
       "</style>\n",
       "<table border=\"1\" class=\"dataframe\">\n",
       "  <thead>\n",
       "    <tr style=\"text-align: right;\">\n",
       "      <th></th>\n",
       "      <th>Officers per 10k population</th>\n",
       "      <th>officers</th>\n",
       "      <th>Employees per 10K population</th>\n",
       "      <th>employees</th>\n",
       "      <th>Population</th>\n",
       "    </tr>\n",
       "  </thead>\n",
       "  <tbody>\n",
       "    <tr>\n",
       "      <th>Officers per 10k population</th>\n",
       "      <td>1.000000</td>\n",
       "      <td>0.489196</td>\n",
       "      <td>0.942033</td>\n",
       "      <td>0.477221</td>\n",
       "      <td>1.000000</td>\n",
       "    </tr>\n",
       "    <tr>\n",
       "      <th>officers</th>\n",
       "      <td>0.489196</td>\n",
       "      <td>1.000000</td>\n",
       "      <td>0.552765</td>\n",
       "      <td>0.999250</td>\n",
       "      <td>0.489196</td>\n",
       "    </tr>\n",
       "    <tr>\n",
       "      <th>Employees per 10K population</th>\n",
       "      <td>0.942033</td>\n",
       "      <td>0.552765</td>\n",
       "      <td>1.000000</td>\n",
       "      <td>0.550630</td>\n",
       "      <td>0.942033</td>\n",
       "    </tr>\n",
       "    <tr>\n",
       "      <th>employees</th>\n",
       "      <td>0.477221</td>\n",
       "      <td>0.999250</td>\n",
       "      <td>0.550630</td>\n",
       "      <td>1.000000</td>\n",
       "      <td>0.477221</td>\n",
       "    </tr>\n",
       "    <tr>\n",
       "      <th>Population</th>\n",
       "      <td>1.000000</td>\n",
       "      <td>0.489196</td>\n",
       "      <td>0.942033</td>\n",
       "      <td>0.477221</td>\n",
       "      <td>1.000000</td>\n",
       "    </tr>\n",
       "  </tbody>\n",
       "</table>\n",
       "</div>"
      ],
      "text/plain": [
       "                              Officers per 10k population  officers  \\\n",
       "Officers per 10k population                      1.000000  0.489196   \n",
       "officers                                         0.489196  1.000000   \n",
       "Employees per 10K population                     0.942033  0.552765   \n",
       "employees                                        0.477221  0.999250   \n",
       "Population                                       1.000000  0.489196   \n",
       "\n",
       "                              Employees per 10K population  employees  \\\n",
       "Officers per 10k population                       0.942033   0.477221   \n",
       "officers                                          0.552765   0.999250   \n",
       "Employees per 10K population                      1.000000   0.550630   \n",
       "employees                                         0.550630   1.000000   \n",
       "Population                                        0.942033   0.477221   \n",
       "\n",
       "                              Population  \n",
       "Officers per 10k population     1.000000  \n",
       "officers                        0.489196  \n",
       "Employees per 10K population    0.942033  \n",
       "employees                       0.477221  \n",
       "Population                      1.000000  "
      ]
     },
     "execution_count": 68,
     "metadata": {},
     "output_type": "execute_result"
    }
   ],
   "source": [
    "correlations = df3.corr()\n",
    "correlations"
   ]
  },
  {
   "cell_type": "code",
   "execution_count": 69,
   "id": "c5c0c0cb",
   "metadata": {},
   "outputs": [
    {
     "data": {
      "image/png": "[encoded data removed]",
      "text/plain": [
       "<Figure size 1440x504 with 2 Axes>"
      ]
     },
     "metadata": {},
     "output_type": "display_data"
    }
   ],
   "source": [
    "sns.heatmap(correlations, cmap=\"YlGnBu\")\n",
    "plt.show()"
   ]
  },
  {
   "cell_type": "code",
   "execution_count": 70,
   "id": "b843f35e",
   "metadata": {},
   "outputs": [
    {
     "data": {
      "image/png": "[encoded data removed]",
      "text/plain": [
       "<Figure size 1440x504 with 1 Axes>"
      ]
     },
     "metadata": {},
     "output_type": "display_data"
    }
   ],
   "source": [
    "corr_of_emp = df3.plot.scatter(x='officers',\n",
    "                      y='employees',\n",
    "                      c='DarkBlue')"
   ]
  },
  {
   "cell_type": "markdown",
   "id": "f1ba3a95",
   "metadata": {},
   "source": [
    "#### There is a positive correlation between 'officers' and 'employees' as can bee seen from the graph above. Meaning that they have a positive relationship in which an increase in employers leads to an increase in officers and vice versa."
   ]
  },
  {
   "cell_type": "markdown",
   "id": "1f782ae6",
   "metadata": {},
   "source": [
    "#### Q9: Finding out the most demanded goods on df4 dataset"
   ]
  },
  {
   "cell_type": "code",
   "execution_count": 71,
   "id": "c367bc93",
   "metadata": {},
   "outputs": [
    {
     "data": {
      "text/html": [
       "<div>\n",
       "<style scoped>\n",
       "    .dataframe tbody tr th:only-of-type {\n",
       "        vertical-align: middle;\n",
       "    }\n",
       "\n",
       "    .dataframe tbody tr th {\n",
       "        vertical-align: top;\n",
       "    }\n",
       "\n",
       "    .dataframe thead th {\n",
       "        text-align: right;\n",
       "    }\n",
       "</style>\n",
       "<table border=\"1\" class=\"dataframe\">\n",
       "  <thead>\n",
       "    <tr style=\"text-align: right;\">\n",
       "      <th></th>\n",
       "      <th>Date</th>\n",
       "      <th>Name</th>\n",
       "      <th>Company Name</th>\n",
       "      <th>City</th>\n",
       "      <th>Country</th>\n",
       "      <th>Currency</th>\n",
       "      <th>Food Type</th>\n",
       "    </tr>\n",
       "  </thead>\n",
       "  <tbody>\n",
       "    <tr>\n",
       "      <th>0</th>\n",
       "      <td>2019-05-24</td>\n",
       "      <td>Rebecca</td>\n",
       "      <td>Interdum PC</td>\n",
       "      <td>L'Hospitalet de Llobregat</td>\n",
       "      <td>Italy</td>\n",
       "      <td>54.46</td>\n",
       "      <td>pasta</td>\n",
       "    </tr>\n",
       "    <tr>\n",
       "      <th>1</th>\n",
       "      <td>2019-04-29</td>\n",
       "      <td>Octavia</td>\n",
       "      <td>Sit Amet Institute</td>\n",
       "      <td>Dutse</td>\n",
       "      <td>Liberia</td>\n",
       "      <td>29.91</td>\n",
       "      <td>seafood</td>\n",
       "    </tr>\n",
       "    <tr>\n",
       "      <th>2</th>\n",
       "      <td>2019-08-13</td>\n",
       "      <td>Gwendolyn</td>\n",
       "      <td>Diam LLP</td>\n",
       "      <td>Cork</td>\n",
       "      <td>Libya</td>\n",
       "      <td>19.45</td>\n",
       "      <td>salads</td>\n",
       "    </tr>\n",
       "    <tr>\n",
       "      <th>3</th>\n",
       "      <td>2018-10-06</td>\n",
       "      <td>Fallon</td>\n",
       "      <td>Blandit Nam Nulla Corp.</td>\n",
       "      <td>Hamburg</td>\n",
       "      <td>Palestine, State of</td>\n",
       "      <td>99.94</td>\n",
       "      <td>stews</td>\n",
       "    </tr>\n",
       "    <tr>\n",
       "      <th>4</th>\n",
       "      <td>2019-04-20</td>\n",
       "      <td>Harper</td>\n",
       "      <td>Eu Eros Nam Corporation</td>\n",
       "      <td>Kawawachikamach</td>\n",
       "      <td>Peru</td>\n",
       "      <td>99.31</td>\n",
       "      <td>cereals</td>\n",
       "    </tr>\n",
       "  </tbody>\n",
       "</table>\n",
       "</div>"
      ],
      "text/plain": [
       "        Date       Name             Company Name                       City  \\\n",
       "0 2019-05-24    Rebecca              Interdum PC  L'Hospitalet de Llobregat   \n",
       "1 2019-04-29    Octavia       Sit Amet Institute                      Dutse   \n",
       "2 2019-08-13  Gwendolyn                 Diam LLP                       Cork   \n",
       "3 2018-10-06     Fallon  Blandit Nam Nulla Corp.                    Hamburg   \n",
       "4 2019-04-20     Harper  Eu Eros Nam Corporation            Kawawachikamach   \n",
       "\n",
       "               Country  Currency Food Type  \n",
       "0                Italy     54.46     pasta  \n",
       "1              Liberia     29.91   seafood  \n",
       "2                Libya     19.45    salads  \n",
       "3  Palestine, State of     99.94     stews  \n",
       "4                 Peru     99.31   cereals  "
      ]
     },
     "execution_count": 71,
     "metadata": {},
     "output_type": "execute_result"
    }
   ],
   "source": [
    "#Exploration of the dataset\n",
    "df4.head()"
   ]
  },
  {
   "cell_type": "code",
   "execution_count": 72,
   "id": "7396d63f",
   "metadata": {},
   "outputs": [
    {
     "data": {
      "text/plain": [
       "(300, 7)"
      ]
     },
     "execution_count": 72,
     "metadata": {},
     "output_type": "execute_result"
    }
   ],
   "source": [
    "df4.shape"
   ]
  },
  {
   "cell_type": "code",
   "execution_count": 73,
   "id": "fcddc1ac",
   "metadata": {},
   "outputs": [
    {
     "name": "stdout",
     "output_type": "stream",
     "text": [
      "<class 'pandas.core.frame.DataFrame'>\n",
      "RangeIndex: 300 entries, 0 to 299\n",
      "Data columns (total 7 columns):\n",
      " #   Column        Non-Null Count  Dtype         \n",
      "---  ------        --------------  -----         \n",
      " 0   Date          300 non-null    datetime64[ns]\n",
      " 1   Name          300 non-null    object        \n",
      " 2   Company Name  300 non-null    object        \n",
      " 3   City          300 non-null    object        \n",
      " 4   Country       300 non-null    object        \n",
      " 5   Currency      300 non-null    float64       \n",
      " 6   Food Type     300 non-null    object        \n",
      "dtypes: datetime64[ns](1), float64(1), object(5)\n",
      "memory usage: 16.5+ KB\n"
     ]
    }
   ],
   "source": [
    "df4.info()"
   ]
  },
  {
   "cell_type": "code",
   "execution_count": 74,
   "id": "285ca7b2",
   "metadata": {},
   "outputs": [
    {
     "data": {
      "text/plain": [
       "Date            False\n",
       "Name            False\n",
       "Company Name    False\n",
       "City            False\n",
       "Country         False\n",
       "Currency        False\n",
       "Food Type       False\n",
       "dtype: bool"
      ]
     },
     "execution_count": 74,
     "metadata": {},
     "output_type": "execute_result"
    }
   ],
   "source": [
    "df4.isna().any()"
   ]
  },
  {
   "cell_type": "code",
   "execution_count": 75,
   "id": "c59ab573",
   "metadata": {},
   "outputs": [
    {
     "data": {
      "text/html": [
       "<div>\n",
       "<style scoped>\n",
       "    .dataframe tbody tr th:only-of-type {\n",
       "        vertical-align: middle;\n",
       "    }\n",
       "\n",
       "    .dataframe tbody tr th {\n",
       "        vertical-align: top;\n",
       "    }\n",
       "\n",
       "    .dataframe thead th {\n",
       "        text-align: right;\n",
       "    }\n",
       "</style>\n",
       "<table border=\"1\" class=\"dataframe\">\n",
       "  <thead>\n",
       "    <tr style=\"text-align: right;\">\n",
       "      <th></th>\n",
       "      <th>Currency</th>\n",
       "    </tr>\n",
       "  </thead>\n",
       "  <tbody>\n",
       "    <tr>\n",
       "      <th>count</th>\n",
       "      <td>300.000000</td>\n",
       "    </tr>\n",
       "    <tr>\n",
       "      <th>mean</th>\n",
       "      <td>50.467867</td>\n",
       "    </tr>\n",
       "    <tr>\n",
       "      <th>std</th>\n",
       "      <td>28.175241</td>\n",
       "    </tr>\n",
       "    <tr>\n",
       "      <th>min</th>\n",
       "      <td>0.170000</td>\n",
       "    </tr>\n",
       "    <tr>\n",
       "      <th>25%</th>\n",
       "      <td>26.735000</td>\n",
       "    </tr>\n",
       "    <tr>\n",
       "      <th>50%</th>\n",
       "      <td>52.005000</td>\n",
       "    </tr>\n",
       "    <tr>\n",
       "      <th>75%</th>\n",
       "      <td>71.770000</td>\n",
       "    </tr>\n",
       "    <tr>\n",
       "      <th>max</th>\n",
       "      <td>99.940000</td>\n",
       "    </tr>\n",
       "  </tbody>\n",
       "</table>\n",
       "</div>"
      ],
      "text/plain": [
       "         Currency\n",
       "count  300.000000\n",
       "mean    50.467867\n",
       "std     28.175241\n",
       "min      0.170000\n",
       "25%     26.735000\n",
       "50%     52.005000\n",
       "75%     71.770000\n",
       "max     99.940000"
      ]
     },
     "execution_count": 75,
     "metadata": {},
     "output_type": "execute_result"
    }
   ],
   "source": [
    "df4.describe()"
   ]
  },
  {
   "cell_type": "markdown",
   "id": "353eef4b",
   "metadata": {},
   "source": [
    "#### The most demanded good seems to be soup with quantity demanded of 39."
   ]
  },
  {
   "cell_type": "code",
   "execution_count": 76,
   "id": "692a7514",
   "metadata": {},
   "outputs": [
    {
     "data": {
      "text/plain": [
       "soups         39\n",
       "cereals       37\n",
       "desserts      33\n",
       "stews         31\n",
       "salads        30\n",
       "pasta         30\n",
       "sandwiches    27\n",
       "seafood       27\n",
       "pies          26\n",
       "noodles       20\n",
       "Name: Food Type, dtype: int64"
      ]
     },
     "execution_count": 76,
     "metadata": {},
     "output_type": "execute_result"
    }
   ],
   "source": [
    "df4['Food Type'].value_counts()"
   ]
  },
  {
   "cell_type": "markdown",
   "id": "11d3dec1",
   "metadata": {},
   "source": [
    "#### The most expensive good seems to be cereals in terms of average price."
   ]
  },
  {
   "cell_type": "code",
   "execution_count": 77,
   "id": "5694f9f4",
   "metadata": {},
   "outputs": [
    {
     "data": {
      "text/plain": [
       "Food Type\n",
       "cereals       54.760000\n",
       "desserts      45.292727\n",
       "noodles       50.730500\n",
       "pasta         44.993667\n",
       "pies          45.037692\n",
       "salads        47.639667\n",
       "sandwiches    54.358889\n",
       "seafood       57.213333\n",
       "soups         48.799744\n",
       "stews         56.108065\n",
       "Name: Currency, dtype: float64"
      ]
     },
     "execution_count": 77,
     "metadata": {},
     "output_type": "execute_result"
    }
   ],
   "source": [
    "gr_food = df4.groupby('Food Type')['Currency'].mean()\n",
    "gr_food"
   ]
  },
  {
   "cell_type": "markdown",
   "id": "76660d3c",
   "metadata": {},
   "source": [
    "#### In terms of price, seafood products seem to be the most expensive."
   ]
  },
  {
   "cell_type": "code",
   "execution_count": 78,
   "id": "06b27ab8",
   "metadata": {},
   "outputs": [
    {
     "data": {
      "text/html": [
       "<div>\n",
       "<style scoped>\n",
       "    .dataframe tbody tr th:only-of-type {\n",
       "        vertical-align: middle;\n",
       "    }\n",
       "\n",
       "    .dataframe tbody tr th {\n",
       "        vertical-align: top;\n",
       "    }\n",
       "\n",
       "    .dataframe thead th {\n",
       "        text-align: right;\n",
       "    }\n",
       "</style>\n",
       "<table border=\"1\" class=\"dataframe\">\n",
       "  <thead>\n",
       "    <tr style=\"text-align: right;\">\n",
       "      <th></th>\n",
       "      <th>Currency</th>\n",
       "    </tr>\n",
       "    <tr>\n",
       "      <th>Food Type</th>\n",
       "      <th></th>\n",
       "    </tr>\n",
       "  </thead>\n",
       "  <tbody>\n",
       "    <tr>\n",
       "      <th>seafood</th>\n",
       "      <td>57.213333</td>\n",
       "    </tr>\n",
       "    <tr>\n",
       "      <th>stews</th>\n",
       "      <td>56.108065</td>\n",
       "    </tr>\n",
       "    <tr>\n",
       "      <th>cereals</th>\n",
       "      <td>54.760000</td>\n",
       "    </tr>\n",
       "    <tr>\n",
       "      <th>sandwiches</th>\n",
       "      <td>54.358889</td>\n",
       "    </tr>\n",
       "    <tr>\n",
       "      <th>noodles</th>\n",
       "      <td>50.730500</td>\n",
       "    </tr>\n",
       "    <tr>\n",
       "      <th>soups</th>\n",
       "      <td>48.799744</td>\n",
       "    </tr>\n",
       "    <tr>\n",
       "      <th>salads</th>\n",
       "      <td>47.639667</td>\n",
       "    </tr>\n",
       "    <tr>\n",
       "      <th>desserts</th>\n",
       "      <td>45.292727</td>\n",
       "    </tr>\n",
       "    <tr>\n",
       "      <th>pies</th>\n",
       "      <td>45.037692</td>\n",
       "    </tr>\n",
       "    <tr>\n",
       "      <th>pasta</th>\n",
       "      <td>44.993667</td>\n",
       "    </tr>\n",
       "  </tbody>\n",
       "</table>\n",
       "</div>"
      ],
      "text/plain": [
       "             Currency\n",
       "Food Type            \n",
       "seafood     57.213333\n",
       "stews       56.108065\n",
       "cereals     54.760000\n",
       "sandwiches  54.358889\n",
       "noodles     50.730500\n",
       "soups       48.799744\n",
       "salads      47.639667\n",
       "desserts    45.292727\n",
       "pies        45.037692\n",
       "pasta       44.993667"
      ]
     },
     "execution_count": 78,
     "metadata": {},
     "output_type": "execute_result"
    }
   ],
   "source": [
    "gr_food = pd.DataFrame(gr_food)\n",
    "gr_food.sort_values(by = 'Currency', ascending = False)"
   ]
  },
  {
   "cell_type": "markdown",
   "id": "0d3c240e",
   "metadata": {},
   "source": [
    "# Algorithm Skills"
   ]
  },
  {
   "cell_type": "markdown",
   "id": "55fac421",
   "metadata": {},
   "source": [
    "##### Algorithm that counts the biggest number of 3 inputs using if/else statement"
   ]
  },
  {
   "cell_type": "code",
   "execution_count": 79,
   "id": "305abf96",
   "metadata": {},
   "outputs": [],
   "source": [
    "def biggest(x, y, z):\n",
    "  \n",
    "    if isinstance(x, (float,int)) and isinstance(y, (float,int)) and isinstance(z,(float,int)):\n",
    "    \n",
    "        if (x >= y) and (x >= z):\n",
    "            biggest = x\n",
    "\n",
    "        elif (y >= x) and (y >= z):\n",
    "            biggest = y\n",
    "        else:\n",
    "            biggest = z\n",
    "          \n",
    "    else:\n",
    "        print(\"Please type in float\")\n",
    "        \n",
    "    return biggest"
   ]
  },
  {
   "cell_type": "code",
   "execution_count": 80,
   "id": "274476a2",
   "metadata": {},
   "outputs": [
    {
     "data": {
      "text/plain": [
       "3"
      ]
     },
     "execution_count": 80,
     "metadata": {},
     "output_type": "execute_result"
    }
   ],
   "source": [
    "biggest(1,2,3)"
   ]
  },
  {
   "cell_type": "code",
   "execution_count": 81,
   "id": "5d31cb17",
   "metadata": {},
   "outputs": [
    {
     "data": {
      "text/plain": [
       "0.34523333333333334"
      ]
     },
     "execution_count": 81,
     "metadata": {},
     "output_type": "execute_result"
    }
   ],
   "source": [
    "biggest(0.3452, 0.345233333333333333333333333333333333333333, 0.011111111)"
   ]
  },
  {
   "cell_type": "markdown",
   "id": "30d2a979",
   "metadata": {},
   "source": [
    "#### Preparation of df3 dataset before implementing the algorithm(Vowel_counter)"
   ]
  },
  {
   "cell_type": "code",
   "execution_count": 82,
   "id": "33109a86",
   "metadata": {},
   "outputs": [
    {
     "data": {
      "text/html": [
       "<div>\n",
       "<style scoped>\n",
       "    .dataframe tbody tr th:only-of-type {\n",
       "        vertical-align: middle;\n",
       "    }\n",
       "\n",
       "    .dataframe tbody tr th {\n",
       "        vertical-align: top;\n",
       "    }\n",
       "\n",
       "    .dataframe thead th {\n",
       "        text-align: right;\n",
       "    }\n",
       "</style>\n",
       "<table border=\"1\" class=\"dataframe\">\n",
       "  <thead>\n",
       "    <tr style=\"text-align: right;\">\n",
       "      <th></th>\n",
       "      <th>City</th>\n",
       "      <th>Officers per 10k population</th>\n",
       "      <th>officers</th>\n",
       "      <th>Employees per 10K population</th>\n",
       "      <th>employees</th>\n",
       "      <th>Population</th>\n",
       "    </tr>\n",
       "  </thead>\n",
       "  <tbody>\n",
       "    <tr>\n",
       "      <th>0</th>\n",
       "      <td>Agawam, Massachusetts</td>\n",
       "      <td>16.3</td>\n",
       "      <td>47</td>\n",
       "      <td>19.8</td>\n",
       "      <td>57</td>\n",
       "      <td>163000</td>\n",
       "    </tr>\n",
       "    <tr>\n",
       "      <th>1</th>\n",
       "      <td>Andover, Massachusetts</td>\n",
       "      <td>14.3</td>\n",
       "      <td>51</td>\n",
       "      <td>20.0</td>\n",
       "      <td>71</td>\n",
       "      <td>143000</td>\n",
       "    </tr>\n",
       "    <tr>\n",
       "      <th>2</th>\n",
       "      <td>Arlington, Massachusetts</td>\n",
       "      <td>14.7</td>\n",
       "      <td>66</td>\n",
       "      <td>18.7</td>\n",
       "      <td>84</td>\n",
       "      <td>147000</td>\n",
       "    </tr>\n",
       "    <tr>\n",
       "      <th>3</th>\n",
       "      <td>Attleboro, Massachusetts</td>\n",
       "      <td>17.9</td>\n",
       "      <td>79</td>\n",
       "      <td>20.6</td>\n",
       "      <td>91</td>\n",
       "      <td>179000</td>\n",
       "    </tr>\n",
       "    <tr>\n",
       "      <th>4</th>\n",
       "      <td>Barnstable, Massachusetts</td>\n",
       "      <td>25.7</td>\n",
       "      <td>113</td>\n",
       "      <td>29.1</td>\n",
       "      <td>128</td>\n",
       "      <td>257000</td>\n",
       "    </tr>\n",
       "  </tbody>\n",
       "</table>\n",
       "</div>"
      ],
      "text/plain": [
       "                        City  Officers per 10k population  officers  \\\n",
       "0      Agawam, Massachusetts                         16.3        47   \n",
       "1     Andover, Massachusetts                         14.3        51   \n",
       "2   Arlington, Massachusetts                         14.7        66   \n",
       "3   Attleboro, Massachusetts                         17.9        79   \n",
       "4  Barnstable, Massachusetts                         25.7       113   \n",
       "\n",
       "   Employees per 10K population  employees  Population  \n",
       "0                          19.8         57      163000  \n",
       "1                          20.0         71      143000  \n",
       "2                          18.7         84      147000  \n",
       "3                          20.6         91      179000  \n",
       "4                          29.1        128      257000  "
      ]
     },
     "execution_count": 82,
     "metadata": {},
     "output_type": "execute_result"
    }
   ],
   "source": [
    "df3.head()"
   ]
  },
  {
   "cell_type": "markdown",
   "id": "65d5eb3b",
   "metadata": {},
   "source": [
    "#### Vowel_counter algorithm"
   ]
  },
  {
   "cell_type": "code",
   "execution_count": 83,
   "id": "d0780034",
   "metadata": {},
   "outputs": [
    {
     "data": {
      "text/plain": [
       "0     7\n",
       "1     7\n",
       "2     7\n",
       "3     8\n",
       "4     7\n",
       "     ..\n",
       "70    8\n",
       "71    7\n",
       "72    7\n",
       "73    6\n",
       "74    7\n",
       "Name: Vowel_counter, Length: 75, dtype: int64"
      ]
     },
     "execution_count": 83,
     "metadata": {},
     "output_type": "execute_result"
    }
   ],
   "source": [
    "vowels = set(\"AEIOUaeiou\")\n",
    "\n",
    "df3['Vowel_counter'] = [sum(1 for c in x if c in vowels) for x in df3['City']]\n",
    "df3['Vowel_counter']"
   ]
  },
  {
   "cell_type": "markdown",
   "id": "8c37fb17",
   "metadata": {},
   "source": [
    "# Social Science Skills"
   ]
  },
  {
   "cell_type": "markdown",
   "id": "0977918d",
   "metadata": {},
   "source": [
    "#### Answers:"
   ]
  },
  {
   "cell_type": "markdown",
   "id": "7163d902",
   "metadata": {},
   "source": [
    "\n",
    "The factors that are likely to affect the demand of a good in e-commerce:\n",
    "\n",
    "1.Price: Establishing a competitive price will be count as the first indicator of any e-commerce sales as there are\n",
    "lots of e-commerce businesses online and many customers often use price-comparison sites before moving into purchasing a spesific\n",
    "product today. So the price is the main indicator for an e-commerce enterprise's sales.\n",
    "\n",
    "2.Shipping: Since we live in a world in which the things are being developed so rapidly, customers are more likely to expect fast\n",
    " and lower-cost shipping opportunities and this feature has a crucial effect on demand of a product that is being sold online.\n",
    " The faster the shipping, and the lower the cost of shipping, the higher the demand for the e-commerce sales.\n",
    "\n",
    "3.Product reviews: Today, people have the chance of reviewing the product before actually using it thanks to comments and\n",
    "shares about the product by the people first bought and use it and share their experience with it on the product page. Hence,\n",
    "the consumers see this part(product reviews) as an important indicator that gives insgihts about the quality of that product,\n",
    "so, the more good experiences shared on the comments, the more likely for costumers to make the purchase for the product\n",
    "\n",
    "4.Return and refund policy: Most of the e-commerce enterprises use this policy in order to keep their customers loyal and\n",
    "happy for their purchases online. In this regard, today, it is almost impossible for an e-commerce business to keep competitive\n",
    "among the others without implementing a trusted return and refund policy for its customers.\n",
    "\n",
    "5.Web Design&Algorithm: The design of an e-commerce website is so crucial to catch the customers' attention into the right product.\n",
    "If an e-commerce site managed to sort the products using a personalization algorithm for each customer, then it is more likely\n",
    "for that customer to make purchase on the products that algorithm brings in front of her/him."
   ]
  },
  {
   "cell_type": "markdown",
   "id": "449d3ec0",
   "metadata": {},
   "source": [
    "## Thank you"
   ]
  },
  {
   "cell_type": "code",
   "execution_count": null,
   "id": "09c5e28e",
   "metadata": {},
   "outputs": [],
   "source": []
  }
 ],
 "metadata": {
  "kernelspec": {
   "display_name": "Python 3",
   "language": "python",
   "name": "python3"
  },
  "language_info": {
   "codemirror_mode": {
    "name": "ipython",
    "version": 3
   },
   "file_extension": ".py",
   "mimetype": "text/x-python",
   "name": "python",
   "nbconvert_exporter": "python",
   "pygments_lexer": "ipython3",
   "version": "3.8.8"
  }
 },
 "nbformat": 4,
 "nbformat_minor": 5
}
